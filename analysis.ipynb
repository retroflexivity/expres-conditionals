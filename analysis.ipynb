{
 "cells": [
  {
   "cell_type": "code",
   "execution_count": 1,
   "metadata": {},
   "outputs": [],
   "source": [
    "import pandas as pd"
   ]
  },
  {
   "cell_type": "code",
   "execution_count": 2,
   "metadata": {},
   "outputs": [],
   "source": [
    "with open('res.csv') as f0:\n",
    "    with open('responses.csv', 'w') as f1:\n",
    "        f1.write('id,ip,controller,item,element,label,square,element-type,element-name,parameter,value,event-time,none,situation,count,comment\\n')\n",
    "        for line in f0.readlines():\n",
    "            if (line.count('Selector')) and (line.count(',') == 15):\n",
    "                f1.write(line)"
   ]
  },
  {
   "cell_type": "code",
   "execution_count": 3,
   "metadata": {},
   "outputs": [],
   "source": [
    "with open('res.csv') as f0:\n",
    "    with open('age.csv', 'w') as f1:\n",
    "        f1.write('id,age\\n')\n",
    "        for line in f0.readlines():\n",
    "            if line.count('age,'):\n",
    "                cropped = line[line.find('Final') + 6:]\n",
    "                cropped = cropped[:cropped.find(',')]\n",
    "                f1.write(line[:line.find(',')] + ',' + cropped + '\\n')"
   ]
  },
  {
   "cell_type": "code",
   "execution_count": 4,
   "metadata": {},
   "outputs": [],
   "source": [
    "with open('res.csv') as f0:\n",
    "    with open('linguist.csv', 'w') as f1:\n",
    "        f1.write('id,linguist\\n')\n",
    "        for line in f0.readlines():\n",
    "            if line.count('linguist,'):\n",
    "                cropped = line[line.find('Choice') + 7:]\n",
    "                cropped = cropped[:cropped.find(',')]\n",
    "                f1.write(line[:line.find(',')] + ',' + cropped + '\\n')"
   ]
  },
  {
   "cell_type": "code",
   "execution_count": 5,
   "metadata": {},
   "outputs": [],
   "source": [
    "res = pd.read_csv('responses.csv')\n",
    "age = pd.read_csv('age.csv')\n",
    "linguist = pd.read_csv('linguist.csv')"
   ]
  },
  {
   "cell_type": "code",
   "execution_count": 6,
   "metadata": {},
   "outputs": [
    {
     "data": {
      "text/html": [
       "<div>\n",
       "<style scoped>\n",
       "    .dataframe tbody tr th:only-of-type {\n",
       "        vertical-align: middle;\n",
       "    }\n",
       "\n",
       "    .dataframe tbody tr th {\n",
       "        vertical-align: top;\n",
       "    }\n",
       "\n",
       "    .dataframe thead th {\n",
       "        text-align: right;\n",
       "    }\n",
       "</style>\n",
       "<table border=\"1\" class=\"dataframe\">\n",
       "  <thead>\n",
       "    <tr style=\"text-align: right;\">\n",
       "      <th></th>\n",
       "      <th>ip</th>\n",
       "      <th>controller</th>\n",
       "      <th>item</th>\n",
       "      <th>element</th>\n",
       "      <th>label</th>\n",
       "      <th>square</th>\n",
       "      <th>element-type</th>\n",
       "      <th>element-name</th>\n",
       "      <th>parameter</th>\n",
       "      <th>value</th>\n",
       "      <th>event-time</th>\n",
       "      <th>none</th>\n",
       "      <th>situation</th>\n",
       "      <th>count</th>\n",
       "      <th>comment</th>\n",
       "      <th>age</th>\n",
       "      <th>linguist</th>\n",
       "    </tr>\n",
       "    <tr>\n",
       "      <th>id</th>\n",
       "      <th></th>\n",
       "      <th></th>\n",
       "      <th></th>\n",
       "      <th></th>\n",
       "      <th></th>\n",
       "      <th></th>\n",
       "      <th></th>\n",
       "      <th></th>\n",
       "      <th></th>\n",
       "      <th></th>\n",
       "      <th></th>\n",
       "      <th></th>\n",
       "      <th></th>\n",
       "      <th></th>\n",
       "      <th></th>\n",
       "      <th></th>\n",
       "      <th></th>\n",
       "    </tr>\n",
       "  </thead>\n",
       "  <tbody>\n",
       "    <tr>\n",
       "      <th>1703510943</th>\n",
       "      <td>01e4e560e10a506fc06f2549c1d0d37d</td>\n",
       "      <td>PennController</td>\n",
       "      <td>11</td>\n",
       "      <td>0</td>\n",
       "      <td>experiment</td>\n",
       "      <td>NaN</td>\n",
       "      <td>Selector</td>\n",
       "      <td>answer</td>\n",
       "      <td>Selection</td>\n",
       "      <td>sent_vs</td>\n",
       "      <td>1703510925433</td>\n",
       "      <td>undefined</td>\n",
       "      <td>moscow</td>\n",
       "      <td>0</td>\n",
       "      <td>sent_vs;sent_sv</td>\n",
       "      <td>1</td>\n",
       "      <td>да</td>\n",
       "    </tr>\n",
       "    <tr>\n",
       "      <th>1703510943</th>\n",
       "      <td>01e4e560e10a506fc06f2549c1d0d37d</td>\n",
       "      <td>PennController</td>\n",
       "      <td>12</td>\n",
       "      <td>0</td>\n",
       "      <td>experiment</td>\n",
       "      <td>NaN</td>\n",
       "      <td>Selector</td>\n",
       "      <td>answer</td>\n",
       "      <td>Selection</td>\n",
       "      <td>sent_vs</td>\n",
       "      <td>1703510926062</td>\n",
       "      <td>undefined</td>\n",
       "      <td>tigers</td>\n",
       "      <td>0</td>\n",
       "      <td>sent_vs;sent_sv</td>\n",
       "      <td>1</td>\n",
       "      <td>да</td>\n",
       "    </tr>\n",
       "    <tr>\n",
       "      <th>1703510943</th>\n",
       "      <td>01e4e560e10a506fc06f2549c1d0d37d</td>\n",
       "      <td>PennController</td>\n",
       "      <td>18</td>\n",
       "      <td>0</td>\n",
       "      <td>experiment</td>\n",
       "      <td>NaN</td>\n",
       "      <td>Selector</td>\n",
       "      <td>answer</td>\n",
       "      <td>Selection</td>\n",
       "      <td>sent_sv</td>\n",
       "      <td>1703510926585</td>\n",
       "      <td>undefined</td>\n",
       "      <td>wheels</td>\n",
       "      <td>0</td>\n",
       "      <td>sent_sv;sent_vs</td>\n",
       "      <td>1</td>\n",
       "      <td>да</td>\n",
       "    </tr>\n",
       "    <tr>\n",
       "      <th>1703510943</th>\n",
       "      <td>01e4e560e10a506fc06f2549c1d0d37d</td>\n",
       "      <td>PennController</td>\n",
       "      <td>3</td>\n",
       "      <td>0</td>\n",
       "      <td>experiment</td>\n",
       "      <td>NaN</td>\n",
       "      <td>Selector</td>\n",
       "      <td>answer</td>\n",
       "      <td>Selection</td>\n",
       "      <td>sent_sv</td>\n",
       "      <td>1703510927086</td>\n",
       "      <td>undefined</td>\n",
       "      <td>carriages</td>\n",
       "      <td>1</td>\n",
       "      <td>sent_sv;sent_vs</td>\n",
       "      <td>1</td>\n",
       "      <td>да</td>\n",
       "    </tr>\n",
       "    <tr>\n",
       "      <th>1703510943</th>\n",
       "      <td>01e4e560e10a506fc06f2549c1d0d37d</td>\n",
       "      <td>PennController</td>\n",
       "      <td>7</td>\n",
       "      <td>0</td>\n",
       "      <td>experiment</td>\n",
       "      <td>NaN</td>\n",
       "      <td>Selector</td>\n",
       "      <td>answer</td>\n",
       "      <td>Selection</td>\n",
       "      <td>sent_sv</td>\n",
       "      <td>1703510927573</td>\n",
       "      <td>undefined</td>\n",
       "      <td>horns</td>\n",
       "      <td>0</td>\n",
       "      <td>sent_sv;sent_vs</td>\n",
       "      <td>1</td>\n",
       "      <td>да</td>\n",
       "    </tr>\n",
       "  </tbody>\n",
       "</table>\n",
       "</div>"
      ],
      "text/plain": [
       "                                          ip      controller  item  element  \\\n",
       "id                                                                            \n",
       "1703510943  01e4e560e10a506fc06f2549c1d0d37d  PennController    11        0   \n",
       "1703510943  01e4e560e10a506fc06f2549c1d0d37d  PennController    12        0   \n",
       "1703510943  01e4e560e10a506fc06f2549c1d0d37d  PennController    18        0   \n",
       "1703510943  01e4e560e10a506fc06f2549c1d0d37d  PennController     3        0   \n",
       "1703510943  01e4e560e10a506fc06f2549c1d0d37d  PennController     7        0   \n",
       "\n",
       "                 label  square element-type element-name  parameter    value  \\\n",
       "id                                                                             \n",
       "1703510943  experiment     NaN     Selector       answer  Selection  sent_vs   \n",
       "1703510943  experiment     NaN     Selector       answer  Selection  sent_vs   \n",
       "1703510943  experiment     NaN     Selector       answer  Selection  sent_sv   \n",
       "1703510943  experiment     NaN     Selector       answer  Selection  sent_sv   \n",
       "1703510943  experiment     NaN     Selector       answer  Selection  sent_sv   \n",
       "\n",
       "               event-time       none  situation  count          comment  age  \\\n",
       "id                                                                             \n",
       "1703510943  1703510925433  undefined     moscow      0  sent_vs;sent_sv    1   \n",
       "1703510943  1703510926062  undefined     tigers      0  sent_vs;sent_sv    1   \n",
       "1703510943  1703510926585  undefined     wheels      0  sent_sv;sent_vs    1   \n",
       "1703510943  1703510927086  undefined  carriages      1  sent_sv;sent_vs    1   \n",
       "1703510943  1703510927573  undefined      horns      0  sent_sv;sent_vs    1   \n",
       "\n",
       "           linguist  \n",
       "id                   \n",
       "1703510943       да  \n",
       "1703510943       да  \n",
       "1703510943       да  \n",
       "1703510943       да  \n",
       "1703510943       да  "
      ]
     },
     "execution_count": 6,
     "metadata": {},
     "output_type": "execute_result"
    }
   ],
   "source": [
    "res = res.set_index('id').join(age.set_index('id')).join(linguist.set_index('id'))\n",
    "res.head()"
   ]
  },
  {
   "cell_type": "code",
   "execution_count": 7,
   "metadata": {},
   "outputs": [
    {
     "data": {
      "text/plain": [
       "(720, 17)"
      ]
     },
     "execution_count": 7,
     "metadata": {},
     "output_type": "execute_result"
    }
   ],
   "source": [
    "res = res[res.age >= 18]\n",
    "res.shape"
   ]
  },
  {
   "cell_type": "code",
   "execution_count": 8,
   "metadata": {},
   "outputs": [
    {
     "name": "stderr",
     "output_type": "stream",
     "text": [
      "/tmp/ipykernel_113515/3573388885.py:3: FutureWarning: Downcasting behavior in `replace` is deprecated and will be removed in a future version. To retain the old behavior, explicitly call `result.infer_objects(copy=False)`. To opt-in to the future behavior, set `pd.set_option('future.no_silent_downcasting', True)`\n",
      "  target = target.replace({'sent_vs': 0, 'sent_sv': 1})\n"
     ]
    }
   ],
   "source": [
    "target_parameters = ['bows','carriages','computers','buttons','lightbulbs','horns','baskets','castles','drawers']\n",
    "target = res[res.situation.isin(target_parameters)]\n",
    "target = target.replace({'sent_vs': 0, 'sent_sv': 1})"
   ]
  },
  {
   "cell_type": "code",
   "execution_count": 9,
   "metadata": {},
   "outputs": [
    {
     "data": {
      "text/html": [
       "<div>\n",
       "<style scoped>\n",
       "    .dataframe tbody tr th:only-of-type {\n",
       "        vertical-align: middle;\n",
       "    }\n",
       "\n",
       "    .dataframe tbody tr th {\n",
       "        vertical-align: top;\n",
       "    }\n",
       "\n",
       "    .dataframe thead th {\n",
       "        text-align: right;\n",
       "    }\n",
       "</style>\n",
       "<table border=\"1\" class=\"dataframe\">\n",
       "  <thead>\n",
       "    <tr style=\"text-align: right;\">\n",
       "      <th></th>\n",
       "      <th>ip</th>\n",
       "      <th>controller</th>\n",
       "      <th>item</th>\n",
       "      <th>element</th>\n",
       "      <th>label</th>\n",
       "      <th>square</th>\n",
       "      <th>element-type</th>\n",
       "      <th>element-name</th>\n",
       "      <th>parameter</th>\n",
       "      <th>value</th>\n",
       "      <th>event-time</th>\n",
       "      <th>none</th>\n",
       "      <th>situation</th>\n",
       "      <th>count</th>\n",
       "      <th>comment</th>\n",
       "      <th>age</th>\n",
       "      <th>linguist</th>\n",
       "    </tr>\n",
       "    <tr>\n",
       "      <th>id</th>\n",
       "      <th></th>\n",
       "      <th></th>\n",
       "      <th></th>\n",
       "      <th></th>\n",
       "      <th></th>\n",
       "      <th></th>\n",
       "      <th></th>\n",
       "      <th></th>\n",
       "      <th></th>\n",
       "      <th></th>\n",
       "      <th></th>\n",
       "      <th></th>\n",
       "      <th></th>\n",
       "      <th></th>\n",
       "      <th></th>\n",
       "      <th></th>\n",
       "      <th></th>\n",
       "    </tr>\n",
       "  </thead>\n",
       "  <tbody>\n",
       "    <tr>\n",
       "      <th>1703514970</th>\n",
       "      <td>2ecb6ae22413454f01bdf5db98b4e6b4</td>\n",
       "      <td>PennController</td>\n",
       "      <td>7</td>\n",
       "      <td>0</td>\n",
       "      <td>experiment</td>\n",
       "      <td>NaN</td>\n",
       "      <td>Selector</td>\n",
       "      <td>answer</td>\n",
       "      <td>Selection</td>\n",
       "      <td>0</td>\n",
       "      <td>1703514657376</td>\n",
       "      <td>undefined</td>\n",
       "      <td>horns</td>\n",
       "      <td>2</td>\n",
       "      <td>sent_sv;sent_vs</td>\n",
       "      <td>19</td>\n",
       "      <td>да</td>\n",
       "    </tr>\n",
       "    <tr>\n",
       "      <th>1703514970</th>\n",
       "      <td>2ecb6ae22413454f01bdf5db98b4e6b4</td>\n",
       "      <td>PennController</td>\n",
       "      <td>8</td>\n",
       "      <td>0</td>\n",
       "      <td>experiment</td>\n",
       "      <td>NaN</td>\n",
       "      <td>Selector</td>\n",
       "      <td>answer</td>\n",
       "      <td>Selection</td>\n",
       "      <td>0</td>\n",
       "      <td>1703514679298</td>\n",
       "      <td>undefined</td>\n",
       "      <td>baskets</td>\n",
       "      <td>1</td>\n",
       "      <td>sent_vs;sent_sv</td>\n",
       "      <td>19</td>\n",
       "      <td>да</td>\n",
       "    </tr>\n",
       "    <tr>\n",
       "      <th>1703514970</th>\n",
       "      <td>2ecb6ae22413454f01bdf5db98b4e6b4</td>\n",
       "      <td>PennController</td>\n",
       "      <td>3</td>\n",
       "      <td>0</td>\n",
       "      <td>experiment</td>\n",
       "      <td>NaN</td>\n",
       "      <td>Selector</td>\n",
       "      <td>answer</td>\n",
       "      <td>Selection</td>\n",
       "      <td>0</td>\n",
       "      <td>1703514722416</td>\n",
       "      <td>undefined</td>\n",
       "      <td>carriages</td>\n",
       "      <td>0</td>\n",
       "      <td>sent_sv;sent_vs</td>\n",
       "      <td>19</td>\n",
       "      <td>да</td>\n",
       "    </tr>\n",
       "    <tr>\n",
       "      <th>1703514970</th>\n",
       "      <td>2ecb6ae22413454f01bdf5db98b4e6b4</td>\n",
       "      <td>PennController</td>\n",
       "      <td>6</td>\n",
       "      <td>0</td>\n",
       "      <td>experiment</td>\n",
       "      <td>NaN</td>\n",
       "      <td>Selector</td>\n",
       "      <td>answer</td>\n",
       "      <td>Selection</td>\n",
       "      <td>0</td>\n",
       "      <td>1703514756103</td>\n",
       "      <td>undefined</td>\n",
       "      <td>lightbulbs</td>\n",
       "      <td>0</td>\n",
       "      <td>sent_vs;sent_sv</td>\n",
       "      <td>19</td>\n",
       "      <td>да</td>\n",
       "    </tr>\n",
       "    <tr>\n",
       "      <th>1703514970</th>\n",
       "      <td>2ecb6ae22413454f01bdf5db98b4e6b4</td>\n",
       "      <td>PennController</td>\n",
       "      <td>2</td>\n",
       "      <td>0</td>\n",
       "      <td>experiment</td>\n",
       "      <td>NaN</td>\n",
       "      <td>Selector</td>\n",
       "      <td>answer</td>\n",
       "      <td>Selection</td>\n",
       "      <td>0</td>\n",
       "      <td>1703514766880</td>\n",
       "      <td>undefined</td>\n",
       "      <td>bows</td>\n",
       "      <td>1</td>\n",
       "      <td>sent_sv;sent_vs</td>\n",
       "      <td>19</td>\n",
       "      <td>да</td>\n",
       "    </tr>\n",
       "  </tbody>\n",
       "</table>\n",
       "</div>"
      ],
      "text/plain": [
       "                                          ip      controller  item  element  \\\n",
       "id                                                                            \n",
       "1703514970  2ecb6ae22413454f01bdf5db98b4e6b4  PennController     7        0   \n",
       "1703514970  2ecb6ae22413454f01bdf5db98b4e6b4  PennController     8        0   \n",
       "1703514970  2ecb6ae22413454f01bdf5db98b4e6b4  PennController     3        0   \n",
       "1703514970  2ecb6ae22413454f01bdf5db98b4e6b4  PennController     6        0   \n",
       "1703514970  2ecb6ae22413454f01bdf5db98b4e6b4  PennController     2        0   \n",
       "\n",
       "                 label  square element-type element-name  parameter  value  \\\n",
       "id                                                                           \n",
       "1703514970  experiment     NaN     Selector       answer  Selection      0   \n",
       "1703514970  experiment     NaN     Selector       answer  Selection      0   \n",
       "1703514970  experiment     NaN     Selector       answer  Selection      0   \n",
       "1703514970  experiment     NaN     Selector       answer  Selection      0   \n",
       "1703514970  experiment     NaN     Selector       answer  Selection      0   \n",
       "\n",
       "               event-time       none   situation  count          comment  age  \\\n",
       "id                                                                              \n",
       "1703514970  1703514657376  undefined       horns      2  sent_sv;sent_vs   19   \n",
       "1703514970  1703514679298  undefined     baskets      1  sent_vs;sent_sv   19   \n",
       "1703514970  1703514722416  undefined   carriages      0  sent_sv;sent_vs   19   \n",
       "1703514970  1703514756103  undefined  lightbulbs      0  sent_vs;sent_sv   19   \n",
       "1703514970  1703514766880  undefined        bows      1  sent_sv;sent_vs   19   \n",
       "\n",
       "           linguist  \n",
       "id                   \n",
       "1703514970       да  \n",
       "1703514970       да  \n",
       "1703514970       да  \n",
       "1703514970       да  \n",
       "1703514970       да  "
      ]
     },
     "execution_count": 9,
     "metadata": {},
     "output_type": "execute_result"
    }
   ],
   "source": [
    "target.head()"
   ]
  },
  {
   "cell_type": "code",
   "execution_count": 10,
   "metadata": {},
   "outputs": [],
   "source": [
    "import matplotlib.pyplot as plt"
   ]
  },
  {
   "cell_type": "code",
   "execution_count": 11,
   "metadata": {},
   "outputs": [
    {
     "data": {
      "text/plain": [
       "situation   count\n",
       "baskets     0        14\n",
       "            1        16\n",
       "            2        10\n",
       "bows        0        14\n",
       "            1        16\n",
       "            2        10\n",
       "buttons     0        14\n",
       "            1        16\n",
       "            2        10\n",
       "carriages   0        16\n",
       "            1        10\n",
       "            2        14\n",
       "castles     0        16\n",
       "            1        10\n",
       "            2        14\n",
       "computers   0        10\n",
       "            1        14\n",
       "            2        16\n",
       "drawers     0        10\n",
       "            1        14\n",
       "            2        16\n",
       "horns       0        10\n",
       "            1        14\n",
       "            2        16\n",
       "lightbulbs  0        16\n",
       "            1        10\n",
       "            2        14\n",
       "Name: value, dtype: int64"
      ]
     },
     "execution_count": 11,
     "metadata": {},
     "output_type": "execute_result"
    }
   ],
   "source": [
    "target.groupby(['situation', 'count'])['value'].count()"
   ]
  },
  {
   "cell_type": "code",
   "execution_count": 12,
   "metadata": {},
   "outputs": [],
   "source": [
    "stat = target.groupby(['situation', 'count'])['value'].mean()"
   ]
  },
  {
   "cell_type": "code",
   "execution_count": 13,
   "metadata": {},
   "outputs": [],
   "source": [
    "target = target[['situation', 'count', 'value']]\n",
    "target.to_csv('data.csv')"
   ]
  },
  {
   "cell_type": "code",
   "execution_count": 14,
   "metadata": {},
   "outputs": [],
   "source": [
    "legend = ['≤1', '1', '≥1']"
   ]
  },
  {
   "cell_type": "code",
   "execution_count": 15,
   "metadata": {},
   "outputs": [
    {
     "data": {
      "image/png": "[encoded data removed]",
      "text/plain": [
       "<Figure size 500x500 with 1 Axes>"
      ]
     },
     "metadata": {},
     "output_type": "display_data"
    }
   ],
   "source": [
    "plt.figure(figsize=(5,5))\n",
    "plt.bar(legend, stat.groupby('count').mean())\n",
    "plt.ylim((0, 1))\n",
    "plt.legend([r'freq of SV'])\n",
    "plt.show()"
   ]
  },
  {
   "cell_type": "code",
   "execution_count": 20,
   "metadata": {},
   "outputs": [
    {
     "data": {
      "image/png": "[encoded data removed]",
      "text/plain": [
       "<Figure size 900x700 with 9 Axes>"
      ]
     },
     "metadata": {},
     "output_type": "display_data"
    }
   ],
   "source": [
    "ax = stat.unstack(level=0).plot(kind='bar', subplots=True, rot=0, figsize=(9, 7), layout=(3,3))\n",
    "for axes in ax:\n",
    "    for axis in axes:\n",
    "        axis.set_ylim((0, 1))\n",
    "        axis.legend(['SV'])\n",
    "    "
   ]
  },
  {
   "cell_type": "code",
   "execution_count": 22,
   "metadata": {},
   "outputs": [],
   "source": [
    "from scipy import stats"
   ]
  },
  {
   "cell_type": "code",
   "execution_count": 23,
   "metadata": {},
   "outputs": [],
   "source": [
    "df_zero = target[target['count'] == 0]\n",
    "df_one = target[target['count'] == 1]\n",
    "df_two = target[target['count'] == 2]"
   ]
  },
  {
   "cell_type": "markdown",
   "metadata": {},
   "source": [
    "### dumb plots"
   ]
  },
  {
   "cell_type": "code",
   "execution_count": 24,
   "metadata": {},
   "outputs": [],
   "source": [
    "resps = target.groupby('id').first()"
   ]
  },
  {
   "cell_type": "code",
   "execution_count": 25,
   "metadata": {},
   "outputs": [
    {
     "data": {
      "image/png": "[encoded data removed]",
      "text/plain": [
       "<Figure size 700x700 with 1 Axes>"
      ]
     },
     "metadata": {},
     "output_type": "display_data"
    }
   ],
   "source": [
    "plt.figure(figsize=(7, 7))\n",
    "plt.hist(resps.linguist)\n",
    "plt.show()"
   ]
  },
  {
   "cell_type": "markdown",
   "metadata": {},
   "source": [
    "### t test"
   ]
  },
  {
   "cell_type": "code",
   "execution_count": 26,
   "metadata": {},
   "outputs": [
    {
     "data": {
      "text/plain": [
       "TtestResult(statistic=np.float64(-0.9106740717564223), pvalue=np.float64(0.18169426102110714), df=np.float64(238.0))"
      ]
     },
     "execution_count": 26,
     "metadata": {},
     "output_type": "execute_result"
    }
   ],
   "source": [
    "stats.ttest_ind(df_zero['value'], df_one['value'], alternative='less')"
   ]
  },
  {
   "cell_type": "code",
   "execution_count": 27,
   "metadata": {},
   "outputs": [
    {
     "data": {
      "text/plain": [
       "TtestResult(statistic=np.float64(-1.949227832839643), pvalue=np.float64(0.026221503200795356), df=np.float64(238.0))"
      ]
     },
     "execution_count": 27,
     "metadata": {},
     "output_type": "execute_result"
    }
   ],
   "source": [
    "stats.ttest_ind(df_two['value'], df_one['value'], alternative='less')"
   ]
  },
  {
   "cell_type": "code",
   "execution_count": 28,
   "metadata": {},
   "outputs": [
    {
     "data": {
      "text/plain": [
       "TtestResult(statistic=np.float64(-1.0309202390160692), pvalue=np.float64(0.15181235797863943), df=np.float64(238.0))"
      ]
     },
     "execution_count": 28,
     "metadata": {},
     "output_type": "execute_result"
    }
   ],
   "source": [
    "stats.ttest_ind(df_two['value'], df_zero['value'], alternative='less')"
   ]
  },
  {
   "cell_type": "markdown",
   "metadata": {},
   "source": [
    "### mixed effects logreg"
   ]
  },
  {
   "cell_type": "code",
   "execution_count": 36,
   "metadata": {},
   "outputs": [],
   "source": [
    "from pymer4.models import Lmer"
   ]
  },
  {
   "cell_type": "markdown",
   "metadata": {},
   "source": [
    "#### <=1"
   ]
  },
  {
   "cell_type": "code",
   "execution_count": 37,
   "metadata": {},
   "outputs": [],
   "source": [
    "le_df = target[target['count'].isin([0, 1])]"
   ]
  },
  {
   "cell_type": "code",
   "execution_count": 48,
   "metadata": {},
   "outputs": [
    {
     "name": "stderr",
     "output_type": "stream",
     "text": [
      "/home/retroflexivity/coding/expres-conditionals/.venv/lib/python3.12/site-packages/rpy2/robjects/pandas2ri.py:65: UserWarning: Error while trying to convert the column \"event-time\". Fall back to string conversion. The error is: integer 1703514679298 does not fit '32-bit int'\n",
      "  warnings.warn('Error while trying to convert '\n"
     ]
    },
    {
     "name": "stdout",
     "output_type": "stream",
     "text": [
      "Linear mixed model fit by maximum likelihood  ['lmerMod']\n",
      "Formula: value~count+(1|id)+(1|situation)\n",
      "\n",
      "Family: binomial\t Inference: parametric\n",
      "\n",
      "Number of observations: 240\t Groups: {'id': 40.0, 'situation': 9.0}\n",
      "\n",
      "Log-likelihood: -152.738 \t AIC: 313.476\n",
      "\n",
      "Random effects:\n",
      "\n",
      "                  Name    Var    Std\n",
      "id         (Intercept)  1.258  1.121\n",
      "situation  (Intercept)  0.573  0.757\n",
      "\n",
      "No random effect correlations specified\n",
      "\n",
      "Fixed effects:\n",
      "\n",
      "             Estimate  2.5_ci  97.5_ci     SE     OR  OR_2.5_ci  OR_97.5_ci  \\\n",
      "(Intercept)     0.216  -0.520    0.951  0.375  1.240      0.595       2.588   \n",
      "count           0.351  -0.246    0.949  0.305  1.421      0.782       2.582   \n",
      "\n",
      "              Prob  Prob_2.5_ci  Prob_97.5_ci  Z-stat  P-val Sig  \n",
      "(Intercept)  0.554        0.373         0.721   0.574  0.566      \n",
      "count        0.587        0.439         0.721   1.152  0.249      \n"
     ]
    },
    {
     "name": "stderr",
     "output_type": "stream",
     "text": [
      "/home/retroflexivity/coding/expres-conditionals/.venv/lib/python3.12/site-packages/pymer4/models/Lmer.py:733: FutureWarning: DataFrame.applymap has been deprecated. Use DataFrame.map instead.\n",
      "  ran_vars = ran_vars.applymap(\n"
     ]
    }
   ],
   "source": [
    "le_model = Lmer(\"value ~ count + (1 | id) + (1 | situation)\", data=le_df.reset_index(), family='binomial').fit()\n",
    "print(le_model)"
   ]
  },
  {
   "cell_type": "markdown",
   "metadata": {},
   "source": [
    "#### >=1"
   ]
  },
  {
   "cell_type": "code",
   "execution_count": 40,
   "metadata": {},
   "outputs": [],
   "source": [
    "ge_df = target[target['count'].isin([2, 1])].copy()\n",
    "ge_df['count'] = ge_df['count'].replace(2, 0)"
   ]
  },
  {
   "cell_type": "code",
   "execution_count": 41,
   "metadata": {},
   "outputs": [
    {
     "name": "stderr",
     "output_type": "stream",
     "text": [
      "/home/retroflexivity/coding/expres-conditionals/.venv/lib/python3.12/site-packages/rpy2/robjects/pandas2ri.py:65: UserWarning: Error while trying to convert the column \"event-time\". Fall back to string conversion. The error is: integer 1703514657376 does not fit '32-bit int'\n",
      "  warnings.warn('Error while trying to convert '\n"
     ]
    },
    {
     "name": "stdout",
     "output_type": "stream",
     "text": [
      "Linear mixed model fit by maximum likelihood  ['lmerMod']\n",
      "Formula: value~count+(1|id)+(1|situation)\n",
      "\n",
      "Family: binomial\t Inference: parametric\n",
      "\n",
      "Number of observations: 240\t Groups: {'id': 40.0, 'situation': 9.0}\n",
      "\n",
      "Log-likelihood: -151.812 \t AIC: 311.624\n",
      "\n",
      "Random effects:\n",
      "\n",
      "                  Name    Var    Std\n",
      "id         (Intercept)  1.539  1.241\n",
      "situation  (Intercept)  0.633  0.796\n",
      "\n",
      "No random effect correlations specified\n",
      "\n",
      "Fixed effects:\n",
      "\n",
      "             Estimate  2.5_ci  97.5_ci     SE     OR  OR_2.5_ci  OR_97.5_ci  \\\n",
      "(Intercept)    -0.134  -0.909    0.641  0.395  0.875      0.403       1.899   \n",
      "count           0.741   0.124    1.357  0.315  2.097      1.132       3.886   \n",
      "\n",
      "              Prob  Prob_2.5_ci  Prob_97.5_ci  Z-stat  P-val Sig  \n",
      "(Intercept)  0.467        0.287         0.655  -0.338  0.735      \n",
      "count        0.677        0.531         0.795   2.353  0.019   *  \n"
     ]
    },
    {
     "name": "stderr",
     "output_type": "stream",
     "text": [
      "/home/retroflexivity/coding/expres-conditionals/.venv/lib/python3.12/site-packages/pymer4/models/Lmer.py:733: FutureWarning: DataFrame.applymap has been deprecated. Use DataFrame.map instead.\n",
      "  ran_vars = ran_vars.applymap(\n"
     ]
    }
   ],
   "source": [
    "ge_model = Lmer(\"value ~ count + (1 | id) + (1 | situation)\", data=ge_df.reset_index(), family='binomial').fit()\n",
    "print(ge_model)"
   ]
  },
  {
   "cell_type": "markdown",
   "metadata": {},
   "source": [
    "#### <>1"
   ]
  },
  {
   "cell_type": "code",
   "execution_count": 42,
   "metadata": {},
   "outputs": [],
   "source": [
    "gl_df = target[target['count'].isin([2, 0])]"
   ]
  },
  {
   "cell_type": "code",
   "execution_count": 81,
   "metadata": {},
   "outputs": [
    {
     "name": "stdout",
     "output_type": "stream",
     "text": [
      "Linear mixed model fit by maximum likelihood  ['lmerMod']\n",
      "Formula: value~count+(1|id)+(1|situation)\n",
      "\n",
      "Family: binomial\t Inference: parametric\n",
      "\n",
      "Number of observations: 240\t Groups: {'id': 40.0, 'situation': 9.0}\n",
      "\n",
      "Log-likelihood: -154.172 \t AIC: 316.344\n",
      "\n",
      "Random effects:\n",
      "\n",
      "                  Name    Var    Std\n",
      "id         (Intercept)  0.891  0.944\n",
      "situation  (Intercept)  0.778  0.882\n",
      "\n",
      "No random effect correlations specified\n",
      "\n",
      "Fixed effects:\n",
      "\n",
      "             Estimate  2.5_ci  97.5_ci     SE     OR  OR_2.5_ci  OR_97.5_ci  \\\n",
      "(Intercept)     0.210  -0.558    0.978  0.392  1.234      0.572       2.659   \n",
      "count          -0.184  -0.480    0.112  0.151  0.832      0.619       1.119   \n",
      "\n",
      "              Prob  Prob_2.5_ci  Prob_97.5_ci  Z-stat  P-val Sig  \n",
      "(Intercept)  0.552        0.364         0.727   0.536  0.592      \n",
      "count        0.454        0.382         0.528  -1.218  0.223      \n"
     ]
    },
    {
     "name": "stderr",
     "output_type": "stream",
     "text": [
      "/home/retroflexivity/coding/expres-conditionals/.venv/lib/python3.12/site-packages/rpy2/robjects/pandas2ri.py:65: UserWarning: Error while trying to convert the column \"event-time\". Fall back to string conversion. The error is: integer 1703514657376 does not fit '32-bit int'\n",
      "  warnings.warn('Error while trying to convert '\n",
      "/home/retroflexivity/coding/expres-conditionals/.venv/lib/python3.12/site-packages/pymer4/models/Lmer.py:733: FutureWarning: DataFrame.applymap has been deprecated. Use DataFrame.map instead.\n",
      "  ran_vars = ran_vars.applymap(\n"
     ]
    }
   ],
   "source": [
    "gl_model = Lmer(\"value ~ count + (1 | id) + (1 | situation)\", data=gl_df.reset_index(), family='binomial').fit()\n",
    "print(gl_model)"
   ]
  },
  {
   "cell_type": "markdown",
   "metadata": {},
   "source": [
    "### contrast coding"
   ]
  },
  {
   "cell_type": "code",
   "execution_count": 49,
   "metadata": {},
   "outputs": [],
   "source": [
    "import numpy as np\n",
    "from pymer4.models import Lm"
   ]
  },
  {
   "cell_type": "code",
   "execution_count": 178,
   "metadata": {},
   "outputs": [],
   "source": [
    "contrasts = lambda c: dict(zip([\"0\", \"1\", \"2\"], c))"
   ]
  },
  {
   "cell_type": "code",
   "execution_count": 87,
   "metadata": {},
   "outputs": [],
   "source": [
    "model = Lmer(\"value ~ count + (1 | id) + (1 | situation)\", data=target.reset_index(), family='binomial')"
   ]
  },
  {
   "cell_type": "markdown",
   "metadata": {},
   "source": [
    "#### 'satisfied' baseline"
   ]
  },
  {
   "cell_type": "markdown",
   "metadata": {},
   "source": [
    "$H_{0_0}: \\mu_0 = \\mu_1 = \\mu_2 \\iff \\frac13\\mu_0 + \\frac13\\mu_1 + \\frac13\\mu_2 = 0$\n",
    "\n",
    "$H_{0_1}: \\mu_2 = \\mu_1 \\iff \\mu_2 - \\mu_1 + 0\\mu_0 = 0$\n",
    "\n",
    "$H_{0_2}: \\mu_0 = \\mu_1 \\iff \\mu_0 - \\mu_1 + 0\\mu_2 = 0$\n",
    "\n",
    "<!-- $H_{0_4}: \\mu_0 = \\mu_2 \\iff \\mu_0 - \\mu_2 + 0\\mu_1 = 0$ -->"
   ]
  },
  {
   "cell_type": "code",
   "execution_count": 236,
   "metadata": {},
   "outputs": [
    {
     "data": {
      "text/plain": [
       "array([[ 0.33333333,  0.33333333,  0.33333333],\n",
       "       [ 0.        , -1.        ,  1.        ],\n",
       "       [ 1.        , -1.        ,  0.        ]])"
      ]
     },
     "execution_count": 236,
     "metadata": {},
     "output_type": "execute_result"
    }
   ],
   "source": [
    "hc = np.array([\n",
    "    [1/3, 1/3, 1/3],\n",
    "    [0, -1, 1],\n",
    "    [1, -1, 0],\n",
    "    # [-1, 0, 1]\n",
    "])\n",
    "hc"
   ]
  },
  {
   "cell_type": "code",
   "execution_count": 237,
   "metadata": {},
   "outputs": [
    {
     "name": "stdout",
     "output_type": "stream",
     "text": [
      "   h00      h01      h02      h03\n",
      "[[ 1.      -0.33333  0.66667]\n",
      " [ 1.      -0.33333 -0.33333]\n",
      " [ 1.       0.66667 -0.33333]]\n"
     ]
    }
   ],
   "source": [
    "xc = np.linalg.pinv(hc).round(5)\n",
    "print('   h00      h01      h02      h03')\n",
    "print(xc)"
   ]
  },
  {
   "cell_type": "markdown",
   "metadata": {},
   "source": [
    "!max vs sat"
   ]
  },
  {
   "cell_type": "code",
   "execution_count": 248,
   "metadata": {},
   "outputs": [
    {
     "name": "stderr",
     "output_type": "stream",
     "text": [
      "/home/retroflexivity/coding/expres-conditionals/.venv/lib/python3.12/site-packages/rpy2/robjects/pandas2ri.py:65: UserWarning: Error while trying to convert the column \"event-time\". Fall back to string conversion. The error is: integer 1703514657376 does not fit '32-bit int'\n",
      "  warnings.warn('Error while trying to convert '\n"
     ]
    },
    {
     "name": "stdout",
     "output_type": "stream",
     "text": [
      "Linear mixed model fit by maximum likelihood  ['lmerMod']\n",
      "Formula: value~count+(1|id)+(1|situation)\n",
      "\n",
      "Family: binomial\t Inference: parametric\n",
      "\n",
      "Number of observations: 360\t Groups: {'id': 40.0, 'situation': 9.0}\n",
      "\n",
      "Log-likelihood: -224.122 \t AIC: 458.245\n",
      "\n",
      "Random effects:\n",
      "\n",
      "                  Name    Var    Std\n",
      "id         (Intercept)  1.274  1.129\n",
      "situation  (Intercept)  0.632  0.795\n",
      "\n",
      "No random effect correlations specified\n",
      "\n",
      "Fixed effects:\n",
      "\n",
      "             Estimate  2.5_ci  97.5_ci     SE     OR  OR_2.5_ci  OR_97.5_ci  \\\n",
      "(Intercept)     0.216  -0.456    0.888  0.343  1.241      0.634       2.431   \n",
      "count1         -0.352  -0.696   -0.008  0.175  0.703      0.499       0.992   \n",
      "count2          0.271  -0.150    0.692  0.215  1.311      0.861       1.999   \n",
      "\n",
      "              Prob  Prob_2.5_ci  Prob_97.5_ci  Z-stat  P-val Sig  \n",
      "(Intercept)  0.554        0.388         0.709   0.629  0.529      \n",
      "count1       0.413        0.333         0.498  -2.007  0.045   *  \n",
      "count2       0.567        0.463         0.667   1.261  0.207      \n"
     ]
    },
    {
     "name": "stderr",
     "output_type": "stream",
     "text": [
      "/home/retroflexivity/coding/expres-conditionals/.venv/lib/python3.12/site-packages/pymer4/models/Lmer.py:733: FutureWarning: DataFrame.applymap has been deprecated. Use DataFrame.map instead.\n",
      "  ran_vars = ran_vars.applymap(\n"
     ]
    }
   ],
   "source": [
    "print(model.fit(factors={\"count\": contrasts(xc.T[1])}))"
   ]
  },
  {
   "cell_type": "markdown",
   "metadata": {},
   "source": [
    "!ex vs sat"
   ]
  },
  {
   "cell_type": "code",
   "execution_count": 247,
   "metadata": {},
   "outputs": [
    {
     "name": "stderr",
     "output_type": "stream",
     "text": [
      "/home/retroflexivity/coding/expres-conditionals/.venv/lib/python3.12/site-packages/rpy2/robjects/pandas2ri.py:65: UserWarning: Error while trying to convert the column \"event-time\". Fall back to string conversion. The error is: integer 1703514657376 does not fit '32-bit int'\n",
      "  warnings.warn('Error while trying to convert '\n"
     ]
    },
    {
     "name": "stdout",
     "output_type": "stream",
     "text": [
      "Linear mixed model fit by maximum likelihood  ['lmerMod']\n",
      "Formula: value~count+(1|id)+(1|situation)\n",
      "\n",
      "Family: binomial\t Inference: parametric\n",
      "\n",
      "Number of observations: 360\t Groups: {'id': 40.0, 'situation': 9.0}\n",
      "\n",
      "Log-likelihood: -224.122 \t AIC: 458.245\n",
      "\n",
      "Random effects:\n",
      "\n",
      "                  Name    Var    Std\n",
      "id         (Intercept)  1.274  1.129\n",
      "situation  (Intercept)  0.632  0.795\n",
      "\n",
      "No random effect correlations specified\n",
      "\n",
      "Fixed effects:\n",
      "\n",
      "             Estimate  2.5_ci  97.5_ci     SE     OR  OR_2.5_ci  OR_97.5_ci  \\\n",
      "(Intercept)     0.216  -0.456    0.888  0.343  1.241      0.634       2.431   \n",
      "count1         -0.016  -0.358    0.326  0.174  0.984      0.699       1.386   \n",
      "count2         -0.509  -0.933   -0.085  0.216  0.601      0.394       0.918   \n",
      "\n",
      "              Prob  Prob_2.5_ci  Prob_97.5_ci  Z-stat  P-val Sig  \n",
      "(Intercept)  0.554        0.388         0.709   0.629  0.529      \n",
      "count1       0.496        0.412         0.581  -0.090  0.928      \n",
      "count2       0.375        0.282         0.479  -2.355  0.019   *  \n"
     ]
    },
    {
     "name": "stderr",
     "output_type": "stream",
     "text": [
      "/home/retroflexivity/coding/expres-conditionals/.venv/lib/python3.12/site-packages/pymer4/models/Lmer.py:733: FutureWarning: DataFrame.applymap has been deprecated. Use DataFrame.map instead.\n",
      "  ran_vars = ran_vars.applymap(\n"
     ]
    }
   ],
   "source": [
    "print(model.fit(factors={\"count\": contrasts(xc.T[2])}))"
   ]
  }
 ],
 "metadata": {
  "kernelspec": {
   "display_name": "Python 3",
   "language": "python",
   "name": "python3"
  },
  "language_info": {
   "codemirror_mode": {
    "name": "ipython",
    "version": 3
   },
   "file_extension": ".py",
   "mimetype": "text/x-python",
   "name": "python",
   "nbconvert_exporter": "python",
   "pygments_lexer": "ipython3",
   "version": "3.12.6"
  }
 },
 "nbformat": 4,
 "nbformat_minor": 2
}
