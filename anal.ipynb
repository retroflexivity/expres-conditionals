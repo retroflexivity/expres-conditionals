{
 "cells": [
  {
   "cell_type": "code",
   "execution_count": 3,
   "metadata": {},
   "outputs": [],
   "source": [
    "import pandas as pd"
   ]
  },
  {
   "cell_type": "code",
   "execution_count": 10,
   "metadata": {},
   "outputs": [],
   "source": [
    "with open('res.csv') as f0:\n",
    "    with open('responses.csv', 'w') as f1:\n",
    "        f1.write('id,ip,controller,item,element,label,square,element-type,element-name,parameter,value,event-time,none,situation,count,comment\\n')\n",
    "        for line in f0.readlines():\n",
    "            if (line.count('Selector')) and (line.count(',') == 15):\n",
    "                f1.write(line)"
   ]
  },
  {
   "cell_type": "code",
   "execution_count": 16,
   "metadata": {},
   "outputs": [],
   "source": [
    "with open('res.csv') as f0:\n",
    "    with open('age.csv', 'w') as f1:\n",
    "        f1.write('id,age\\n')\n",
    "        for line in f0.readlines():\n",
    "            if line.count('age,'):\n",
    "                cropped = line[line.find('Final') + 6:]\n",
    "                cropped = cropped[:cropped.find(',')]\n",
    "                f1.write(line[:line.find(',')] + ',' + cropped + '\\n')"
   ]
  },
  {
   "cell_type": "code",
   "execution_count": 17,
   "metadata": {},
   "outputs": [],
   "source": [
    "with open('res.csv') as f0:\n",
    "    with open('linguist.csv', 'w') as f1:\n",
    "        f1.write('id,linguist\\n')\n",
    "        for line in f0.readlines():\n",
    "            if line.count('linguist,'):\n",
    "                cropped = line[line.find('Choice') + 7:]\n",
    "                cropped = cropped[:cropped.find(',')]\n",
    "                f1.write(line[:line.find(',')] + ',' + cropped + '\\n')"
   ]
  },
  {
   "cell_type": "code",
   "execution_count": 12,
   "metadata": {},
   "outputs": [],
   "source": [
    "res = pd.read_csv('responses.csv')\n",
    "age = pd.read_csv('age.csv')\n",
    "linguist = pd.read_csv('linguist.csv')"
   ]
  },
  {
   "cell_type": "code",
   "execution_count": 13,
   "metadata": {},
   "outputs": [],
   "source": [
    "res = res.set_index('id').join(age.set_index('id'))"
   ]
  },
  {
   "cell_type": "code",
   "execution_count": 14,
   "metadata": {},
   "outputs": [
    {
     "data": {
      "text/html": [
       "<div>\n",
       "<style scoped>\n",
       "    .dataframe tbody tr th:only-of-type {\n",
       "        vertical-align: middle;\n",
       "    }\n",
       "\n",
       "    .dataframe tbody tr th {\n",
       "        vertical-align: top;\n",
       "    }\n",
       "\n",
       "    .dataframe thead th {\n",
       "        text-align: right;\n",
       "    }\n",
       "</style>\n",
       "<table border=\"1\" class=\"dataframe\">\n",
       "  <thead>\n",
       "    <tr style=\"text-align: right;\">\n",
       "      <th></th>\n",
       "      <th>ip</th>\n",
       "      <th>controller</th>\n",
       "      <th>item</th>\n",
       "      <th>element</th>\n",
       "      <th>label</th>\n",
       "      <th>square</th>\n",
       "      <th>element-type</th>\n",
       "      <th>element-name</th>\n",
       "      <th>parameter</th>\n",
       "      <th>value</th>\n",
       "      <th>event-time</th>\n",
       "      <th>none</th>\n",
       "      <th>situation</th>\n",
       "      <th>count</th>\n",
       "      <th>comment</th>\n",
       "      <th>age</th>\n",
       "    </tr>\n",
       "    <tr>\n",
       "      <th>id</th>\n",
       "      <th></th>\n",
       "      <th></th>\n",
       "      <th></th>\n",
       "      <th></th>\n",
       "      <th></th>\n",
       "      <th></th>\n",
       "      <th></th>\n",
       "      <th></th>\n",
       "      <th></th>\n",
       "      <th></th>\n",
       "      <th></th>\n",
       "      <th></th>\n",
       "      <th></th>\n",
       "      <th></th>\n",
       "      <th></th>\n",
       "      <th></th>\n",
       "    </tr>\n",
       "  </thead>\n",
       "  <tbody>\n",
       "    <tr>\n",
       "      <th>1703510943</th>\n",
       "      <td>01e4e560e10a506fc06f2549c1d0d37d</td>\n",
       "      <td>PennController</td>\n",
       "      <td>11</td>\n",
       "      <td>0</td>\n",
       "      <td>experiment</td>\n",
       "      <td>NaN</td>\n",
       "      <td>Selector</td>\n",
       "      <td>answer</td>\n",
       "      <td>Selection</td>\n",
       "      <td>sent_vs</td>\n",
       "      <td>1703510925433</td>\n",
       "      <td>undefined</td>\n",
       "      <td>moscow</td>\n",
       "      <td>0</td>\n",
       "      <td>sent_vs;sent_sv</td>\n",
       "      <td>1</td>\n",
       "    </tr>\n",
       "    <tr>\n",
       "      <th>1703510943</th>\n",
       "      <td>01e4e560e10a506fc06f2549c1d0d37d</td>\n",
       "      <td>PennController</td>\n",
       "      <td>12</td>\n",
       "      <td>0</td>\n",
       "      <td>experiment</td>\n",
       "      <td>NaN</td>\n",
       "      <td>Selector</td>\n",
       "      <td>answer</td>\n",
       "      <td>Selection</td>\n",
       "      <td>sent_vs</td>\n",
       "      <td>1703510926062</td>\n",
       "      <td>undefined</td>\n",
       "      <td>tigers</td>\n",
       "      <td>0</td>\n",
       "      <td>sent_vs;sent_sv</td>\n",
       "      <td>1</td>\n",
       "    </tr>\n",
       "    <tr>\n",
       "      <th>1703510943</th>\n",
       "      <td>01e4e560e10a506fc06f2549c1d0d37d</td>\n",
       "      <td>PennController</td>\n",
       "      <td>18</td>\n",
       "      <td>0</td>\n",
       "      <td>experiment</td>\n",
       "      <td>NaN</td>\n",
       "      <td>Selector</td>\n",
       "      <td>answer</td>\n",
       "      <td>Selection</td>\n",
       "      <td>sent_sv</td>\n",
       "      <td>1703510926585</td>\n",
       "      <td>undefined</td>\n",
       "      <td>wheels</td>\n",
       "      <td>0</td>\n",
       "      <td>sent_sv;sent_vs</td>\n",
       "      <td>1</td>\n",
       "    </tr>\n",
       "    <tr>\n",
       "      <th>1703510943</th>\n",
       "      <td>01e4e560e10a506fc06f2549c1d0d37d</td>\n",
       "      <td>PennController</td>\n",
       "      <td>3</td>\n",
       "      <td>0</td>\n",
       "      <td>experiment</td>\n",
       "      <td>NaN</td>\n",
       "      <td>Selector</td>\n",
       "      <td>answer</td>\n",
       "      <td>Selection</td>\n",
       "      <td>sent_sv</td>\n",
       "      <td>1703510927086</td>\n",
       "      <td>undefined</td>\n",
       "      <td>carriages</td>\n",
       "      <td>1</td>\n",
       "      <td>sent_sv;sent_vs</td>\n",
       "      <td>1</td>\n",
       "    </tr>\n",
       "    <tr>\n",
       "      <th>1703510943</th>\n",
       "      <td>01e4e560e10a506fc06f2549c1d0d37d</td>\n",
       "      <td>PennController</td>\n",
       "      <td>7</td>\n",
       "      <td>0</td>\n",
       "      <td>experiment</td>\n",
       "      <td>NaN</td>\n",
       "      <td>Selector</td>\n",
       "      <td>answer</td>\n",
       "      <td>Selection</td>\n",
       "      <td>sent_sv</td>\n",
       "      <td>1703510927573</td>\n",
       "      <td>undefined</td>\n",
       "      <td>horns</td>\n",
       "      <td>0</td>\n",
       "      <td>sent_sv;sent_vs</td>\n",
       "      <td>1</td>\n",
       "    </tr>\n",
       "  </tbody>\n",
       "</table>\n",
       "</div>"
      ],
      "text/plain": [
       "                                          ip      controller  item  element  \\\n",
       "id                                                                            \n",
       "1703510943  01e4e560e10a506fc06f2549c1d0d37d  PennController    11        0   \n",
       "1703510943  01e4e560e10a506fc06f2549c1d0d37d  PennController    12        0   \n",
       "1703510943  01e4e560e10a506fc06f2549c1d0d37d  PennController    18        0   \n",
       "1703510943  01e4e560e10a506fc06f2549c1d0d37d  PennController     3        0   \n",
       "1703510943  01e4e560e10a506fc06f2549c1d0d37d  PennController     7        0   \n",
       "\n",
       "                 label  square element-type element-name  parameter    value  \\\n",
       "id                                                                             \n",
       "1703510943  experiment     NaN     Selector       answer  Selection  sent_vs   \n",
       "1703510943  experiment     NaN     Selector       answer  Selection  sent_vs   \n",
       "1703510943  experiment     NaN     Selector       answer  Selection  sent_sv   \n",
       "1703510943  experiment     NaN     Selector       answer  Selection  sent_sv   \n",
       "1703510943  experiment     NaN     Selector       answer  Selection  sent_sv   \n",
       "\n",
       "               event-time       none  situation  count          comment  age  \n",
       "id                                                                            \n",
       "1703510943  1703510925433  undefined     moscow      0  sent_vs;sent_sv    1  \n",
       "1703510943  1703510926062  undefined     tigers      0  sent_vs;sent_sv    1  \n",
       "1703510943  1703510926585  undefined     wheels      0  sent_sv;sent_vs    1  \n",
       "1703510943  1703510927086  undefined  carriages      1  sent_sv;sent_vs    1  \n",
       "1703510943  1703510927573  undefined      horns      0  sent_sv;sent_vs    1  "
      ]
     },
     "execution_count": 14,
     "metadata": {},
     "output_type": "execute_result"
    }
   ],
   "source": [
    "res.head()"
   ]
  },
  {
   "cell_type": "code",
   "execution_count": 17,
   "metadata": {},
   "outputs": [],
   "source": [
    "res = res[res.age >= 18]"
   ]
  },
  {
   "cell_type": "code",
   "execution_count": 18,
   "metadata": {},
   "outputs": [
    {
     "data": {
      "text/plain": [
       "(630, 16)"
      ]
     },
     "execution_count": 18,
     "metadata": {},
     "output_type": "execute_result"
    }
   ],
   "source": [
    "res.shape"
   ]
  },
  {
   "cell_type": "code",
   "execution_count": 21,
   "metadata": {},
   "outputs": [],
   "source": [
    "target_parameters = ['bows','carriages','computers','buttons','lightbulbs','horns','baskets','castles','drawers']"
   ]
  },
  {
   "cell_type": "code",
   "execution_count": 27,
   "metadata": {},
   "outputs": [],
   "source": [
    "target = res[res.situation.isin(target_parameters)]"
   ]
  },
  {
   "cell_type": "code",
   "execution_count": 28,
   "metadata": {},
   "outputs": [
    {
     "data": {
      "text/plain": [
       "(315, 16)"
      ]
     },
     "execution_count": 28,
     "metadata": {},
     "output_type": "execute_result"
    }
   ],
   "source": [
    "target.shape"
   ]
  },
  {
   "cell_type": "code",
   "execution_count": 29,
   "metadata": {},
   "outputs": [
    {
     "data": {
      "text/html": [
       "<div>\n",
       "<style scoped>\n",
       "    .dataframe tbody tr th:only-of-type {\n",
       "        vertical-align: middle;\n",
       "    }\n",
       "\n",
       "    .dataframe tbody tr th {\n",
       "        vertical-align: top;\n",
       "    }\n",
       "\n",
       "    .dataframe thead th {\n",
       "        text-align: right;\n",
       "    }\n",
       "</style>\n",
       "<table border=\"1\" class=\"dataframe\">\n",
       "  <thead>\n",
       "    <tr style=\"text-align: right;\">\n",
       "      <th></th>\n",
       "      <th>ip</th>\n",
       "      <th>controller</th>\n",
       "      <th>item</th>\n",
       "      <th>element</th>\n",
       "      <th>label</th>\n",
       "      <th>square</th>\n",
       "      <th>element-type</th>\n",
       "      <th>element-name</th>\n",
       "      <th>parameter</th>\n",
       "      <th>value</th>\n",
       "      <th>event-time</th>\n",
       "      <th>none</th>\n",
       "      <th>situation</th>\n",
       "      <th>count</th>\n",
       "      <th>comment</th>\n",
       "      <th>age</th>\n",
       "    </tr>\n",
       "    <tr>\n",
       "      <th>id</th>\n",
       "      <th></th>\n",
       "      <th></th>\n",
       "      <th></th>\n",
       "      <th></th>\n",
       "      <th></th>\n",
       "      <th></th>\n",
       "      <th></th>\n",
       "      <th></th>\n",
       "      <th></th>\n",
       "      <th></th>\n",
       "      <th></th>\n",
       "      <th></th>\n",
       "      <th></th>\n",
       "      <th></th>\n",
       "      <th></th>\n",
       "      <th></th>\n",
       "    </tr>\n",
       "  </thead>\n",
       "  <tbody>\n",
       "    <tr>\n",
       "      <th>1703514970</th>\n",
       "      <td>2ecb6ae22413454f01bdf5db98b4e6b4</td>\n",
       "      <td>PennController</td>\n",
       "      <td>7</td>\n",
       "      <td>0</td>\n",
       "      <td>experiment</td>\n",
       "      <td>NaN</td>\n",
       "      <td>Selector</td>\n",
       "      <td>answer</td>\n",
       "      <td>Selection</td>\n",
       "      <td>sent_vs</td>\n",
       "      <td>1703514657376</td>\n",
       "      <td>undefined</td>\n",
       "      <td>horns</td>\n",
       "      <td>2</td>\n",
       "      <td>sent_sv;sent_vs</td>\n",
       "      <td>19</td>\n",
       "    </tr>\n",
       "    <tr>\n",
       "      <th>1703514970</th>\n",
       "      <td>2ecb6ae22413454f01bdf5db98b4e6b4</td>\n",
       "      <td>PennController</td>\n",
       "      <td>8</td>\n",
       "      <td>0</td>\n",
       "      <td>experiment</td>\n",
       "      <td>NaN</td>\n",
       "      <td>Selector</td>\n",
       "      <td>answer</td>\n",
       "      <td>Selection</td>\n",
       "      <td>sent_vs</td>\n",
       "      <td>1703514679298</td>\n",
       "      <td>undefined</td>\n",
       "      <td>baskets</td>\n",
       "      <td>1</td>\n",
       "      <td>sent_vs;sent_sv</td>\n",
       "      <td>19</td>\n",
       "    </tr>\n",
       "    <tr>\n",
       "      <th>1703514970</th>\n",
       "      <td>2ecb6ae22413454f01bdf5db98b4e6b4</td>\n",
       "      <td>PennController</td>\n",
       "      <td>3</td>\n",
       "      <td>0</td>\n",
       "      <td>experiment</td>\n",
       "      <td>NaN</td>\n",
       "      <td>Selector</td>\n",
       "      <td>answer</td>\n",
       "      <td>Selection</td>\n",
       "      <td>sent_vs</td>\n",
       "      <td>1703514722416</td>\n",
       "      <td>undefined</td>\n",
       "      <td>carriages</td>\n",
       "      <td>0</td>\n",
       "      <td>sent_sv;sent_vs</td>\n",
       "      <td>19</td>\n",
       "    </tr>\n",
       "    <tr>\n",
       "      <th>1703514970</th>\n",
       "      <td>2ecb6ae22413454f01bdf5db98b4e6b4</td>\n",
       "      <td>PennController</td>\n",
       "      <td>6</td>\n",
       "      <td>0</td>\n",
       "      <td>experiment</td>\n",
       "      <td>NaN</td>\n",
       "      <td>Selector</td>\n",
       "      <td>answer</td>\n",
       "      <td>Selection</td>\n",
       "      <td>sent_vs</td>\n",
       "      <td>1703514756103</td>\n",
       "      <td>undefined</td>\n",
       "      <td>lightbulbs</td>\n",
       "      <td>0</td>\n",
       "      <td>sent_vs;sent_sv</td>\n",
       "      <td>19</td>\n",
       "    </tr>\n",
       "    <tr>\n",
       "      <th>1703514970</th>\n",
       "      <td>2ecb6ae22413454f01bdf5db98b4e6b4</td>\n",
       "      <td>PennController</td>\n",
       "      <td>2</td>\n",
       "      <td>0</td>\n",
       "      <td>experiment</td>\n",
       "      <td>NaN</td>\n",
       "      <td>Selector</td>\n",
       "      <td>answer</td>\n",
       "      <td>Selection</td>\n",
       "      <td>sent_vs</td>\n",
       "      <td>1703514766880</td>\n",
       "      <td>undefined</td>\n",
       "      <td>bows</td>\n",
       "      <td>1</td>\n",
       "      <td>sent_sv;sent_vs</td>\n",
       "      <td>19</td>\n",
       "    </tr>\n",
       "  </tbody>\n",
       "</table>\n",
       "</div>"
      ],
      "text/plain": [
       "                                          ip      controller  item  element  \\\n",
       "id                                                                            \n",
       "1703514970  2ecb6ae22413454f01bdf5db98b4e6b4  PennController     7        0   \n",
       "1703514970  2ecb6ae22413454f01bdf5db98b4e6b4  PennController     8        0   \n",
       "1703514970  2ecb6ae22413454f01bdf5db98b4e6b4  PennController     3        0   \n",
       "1703514970  2ecb6ae22413454f01bdf5db98b4e6b4  PennController     6        0   \n",
       "1703514970  2ecb6ae22413454f01bdf5db98b4e6b4  PennController     2        0   \n",
       "\n",
       "                 label  square element-type element-name  parameter    value  \\\n",
       "id                                                                             \n",
       "1703514970  experiment     NaN     Selector       answer  Selection  sent_vs   \n",
       "1703514970  experiment     NaN     Selector       answer  Selection  sent_vs   \n",
       "1703514970  experiment     NaN     Selector       answer  Selection  sent_vs   \n",
       "1703514970  experiment     NaN     Selector       answer  Selection  sent_vs   \n",
       "1703514970  experiment     NaN     Selector       answer  Selection  sent_vs   \n",
       "\n",
       "               event-time       none   situation  count          comment  age  \n",
       "id                                                                             \n",
       "1703514970  1703514657376  undefined       horns      2  sent_sv;sent_vs   19  \n",
       "1703514970  1703514679298  undefined     baskets      1  sent_vs;sent_sv   19  \n",
       "1703514970  1703514722416  undefined   carriages      0  sent_sv;sent_vs   19  \n",
       "1703514970  1703514756103  undefined  lightbulbs      0  sent_vs;sent_sv   19  \n",
       "1703514970  1703514766880  undefined        bows      1  sent_sv;sent_vs   19  "
      ]
     },
     "execution_count": 29,
     "metadata": {},
     "output_type": "execute_result"
    }
   ],
   "source": [
    "target.head()"
   ]
  },
  {
   "cell_type": "code",
   "execution_count": 30,
   "metadata": {},
   "outputs": [],
   "source": [
    "import matplotlib.pyplot as plt"
   ]
  },
  {
   "cell_type": "code",
   "execution_count": 58,
   "metadata": {},
   "outputs": [],
   "source": [
    "stat = target[target.value == 'sent_sv'].groupby(['situation', 'count'])['value'].count() / target.groupby(['situation', 'count'])['value'].count()"
   ]
  },
  {
   "cell_type": "code",
   "execution_count": 59,
   "metadata": {},
   "outputs": [
    {
     "data": {
      "text/plain": [
       "count\n",
       "0    0.584325\n",
       "1    0.588889\n",
       "2    0.522321\n",
       "Name: value, dtype: float64"
      ]
     },
     "execution_count": 59,
     "metadata": {},
     "output_type": "execute_result"
    }
   ],
   "source": [
    "stat.groupby('count').mean()"
   ]
  },
  {
   "cell_type": "code",
   "execution_count": 62,
   "metadata": {},
   "outputs": [
    {
     "data": {
      "image/png": "[encoded data removed]",
      "text/plain": [
       "<Figure size 900x700 with 9 Axes>"
      ]
     },
     "metadata": {},
     "output_type": "display_data"
    }
   ],
   "source": [
    "ax = stat.unstack(level=0).plot(kind='bar', subplots=True, rot=0, figsize=(9, 7), layout=(3,3))\n"
   ]
  }
 ],
 "metadata": {
  "kernelspec": {
   "display_name": "Python 3",
   "language": "python",
   "name": "python3"
  },
  "language_info": {
   "codemirror_mode": {
    "name": "ipython",
    "version": 3
   },
   "file_extension": ".py",
   "mimetype": "text/x-python",
   "name": "python",
   "nbconvert_exporter": "python",
   "pygments_lexer": "ipython3",
   "version": "3.9.2"
  }
 },
 "nbformat": 4,
 "nbformat_minor": 2
}
