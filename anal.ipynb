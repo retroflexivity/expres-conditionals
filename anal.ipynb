{
 "cells": [
  {
   "cell_type": "code",
   "execution_count": 1,
   "metadata": {},
   "outputs": [],
   "source": [
    "import pandas as pd"
   ]
  },
  {
   "cell_type": "code",
   "execution_count": 3,
   "metadata": {},
   "outputs": [],
   "source": [
    "with open('res.csv') as f0:\n",
    "    with open('responses.csv', 'w') as f1:\n",
    "        f1.write('id,ip,controller,item,element,label,square,element-type,element-name,parameter,value,event-time,none,situation,count,comment\\n')\n",
    "        for line in f0.readlines():\n",
    "            if (line.count('Selector')) and (line.count(',') == 15):\n",
    "                f1.write(line)"
   ]
  },
  {
   "cell_type": "code",
   "execution_count": 4,
   "metadata": {},
   "outputs": [],
   "source": [
    "with open('res.csv') as f0:\n",
    "    with open('age.csv', 'w') as f1:\n",
    "        f1.write('id,age\\n')\n",
    "        for line in f0.readlines():\n",
    "            if line.count('age,'):\n",
    "                cropped = line[line.find('Final') + 6:]\n",
    "                cropped = cropped[:cropped.find(',')]\n",
    "                f1.write(line[:line.find(',')] + ',' + cropped + '\\n')"
   ]
  },
  {
   "cell_type": "code",
   "execution_count": 5,
   "metadata": {},
   "outputs": [],
   "source": [
    "with open('res.csv') as f0:\n",
    "    with open('linguist.csv', 'w') as f1:\n",
    "        f1.write('id,linguist\\n')\n",
    "        for line in f0.readlines():\n",
    "            if line.count('linguist,'):\n",
    "                cropped = line[line.find('Choice') + 7:]\n",
    "                cropped = cropped[:cropped.find(',')]\n",
    "                f1.write(line[:line.find(',')] + ',' + cropped + '\\n')"
   ]
  },
  {
   "cell_type": "code",
   "execution_count": 10,
   "metadata": {},
   "outputs": [],
   "source": [
    "res = pd.read_csv('responses.csv')\n",
    "age = pd.read_csv('age.csv')\n",
    "linguist = pd.read_csv('linguist.csv')"
   ]
  },
  {
   "cell_type": "code",
   "execution_count": 11,
   "metadata": {},
   "outputs": [
    {
     "data": {
      "text/html": [
       "<div>\n",
       "<style scoped>\n",
       "    .dataframe tbody tr th:only-of-type {\n",
       "        vertical-align: middle;\n",
       "    }\n",
       "\n",
       "    .dataframe tbody tr th {\n",
       "        vertical-align: top;\n",
       "    }\n",
       "\n",
       "    .dataframe thead th {\n",
       "        text-align: right;\n",
       "    }\n",
       "</style>\n",
       "<table border=\"1\" class=\"dataframe\">\n",
       "  <thead>\n",
       "    <tr style=\"text-align: right;\">\n",
       "      <th></th>\n",
       "      <th>ip</th>\n",
       "      <th>controller</th>\n",
       "      <th>item</th>\n",
       "      <th>element</th>\n",
       "      <th>label</th>\n",
       "      <th>square</th>\n",
       "      <th>element-type</th>\n",
       "      <th>element-name</th>\n",
       "      <th>parameter</th>\n",
       "      <th>value</th>\n",
       "      <th>event-time</th>\n",
       "      <th>none</th>\n",
       "      <th>situation</th>\n",
       "      <th>count</th>\n",
       "      <th>comment</th>\n",
       "      <th>age</th>\n",
       "      <th>linguist</th>\n",
       "    </tr>\n",
       "    <tr>\n",
       "      <th>id</th>\n",
       "      <th></th>\n",
       "      <th></th>\n",
       "      <th></th>\n",
       "      <th></th>\n",
       "      <th></th>\n",
       "      <th></th>\n",
       "      <th></th>\n",
       "      <th></th>\n",
       "      <th></th>\n",
       "      <th></th>\n",
       "      <th></th>\n",
       "      <th></th>\n",
       "      <th></th>\n",
       "      <th></th>\n",
       "      <th></th>\n",
       "      <th></th>\n",
       "      <th></th>\n",
       "    </tr>\n",
       "  </thead>\n",
       "  <tbody>\n",
       "    <tr>\n",
       "      <th>1703510943</th>\n",
       "      <td>01e4e560e10a506fc06f2549c1d0d37d</td>\n",
       "      <td>PennController</td>\n",
       "      <td>11</td>\n",
       "      <td>0</td>\n",
       "      <td>experiment</td>\n",
       "      <td>NaN</td>\n",
       "      <td>Selector</td>\n",
       "      <td>answer</td>\n",
       "      <td>Selection</td>\n",
       "      <td>sent_vs</td>\n",
       "      <td>1703510925433</td>\n",
       "      <td>undefined</td>\n",
       "      <td>moscow</td>\n",
       "      <td>0</td>\n",
       "      <td>sent_vs;sent_sv</td>\n",
       "      <td>1</td>\n",
       "      <td>да</td>\n",
       "    </tr>\n",
       "    <tr>\n",
       "      <th>1703510943</th>\n",
       "      <td>01e4e560e10a506fc06f2549c1d0d37d</td>\n",
       "      <td>PennController</td>\n",
       "      <td>12</td>\n",
       "      <td>0</td>\n",
       "      <td>experiment</td>\n",
       "      <td>NaN</td>\n",
       "      <td>Selector</td>\n",
       "      <td>answer</td>\n",
       "      <td>Selection</td>\n",
       "      <td>sent_vs</td>\n",
       "      <td>1703510926062</td>\n",
       "      <td>undefined</td>\n",
       "      <td>tigers</td>\n",
       "      <td>0</td>\n",
       "      <td>sent_vs;sent_sv</td>\n",
       "      <td>1</td>\n",
       "      <td>да</td>\n",
       "    </tr>\n",
       "    <tr>\n",
       "      <th>1703510943</th>\n",
       "      <td>01e4e560e10a506fc06f2549c1d0d37d</td>\n",
       "      <td>PennController</td>\n",
       "      <td>18</td>\n",
       "      <td>0</td>\n",
       "      <td>experiment</td>\n",
       "      <td>NaN</td>\n",
       "      <td>Selector</td>\n",
       "      <td>answer</td>\n",
       "      <td>Selection</td>\n",
       "      <td>sent_sv</td>\n",
       "      <td>1703510926585</td>\n",
       "      <td>undefined</td>\n",
       "      <td>wheels</td>\n",
       "      <td>0</td>\n",
       "      <td>sent_sv;sent_vs</td>\n",
       "      <td>1</td>\n",
       "      <td>да</td>\n",
       "    </tr>\n",
       "    <tr>\n",
       "      <th>1703510943</th>\n",
       "      <td>01e4e560e10a506fc06f2549c1d0d37d</td>\n",
       "      <td>PennController</td>\n",
       "      <td>3</td>\n",
       "      <td>0</td>\n",
       "      <td>experiment</td>\n",
       "      <td>NaN</td>\n",
       "      <td>Selector</td>\n",
       "      <td>answer</td>\n",
       "      <td>Selection</td>\n",
       "      <td>sent_sv</td>\n",
       "      <td>1703510927086</td>\n",
       "      <td>undefined</td>\n",
       "      <td>carriages</td>\n",
       "      <td>1</td>\n",
       "      <td>sent_sv;sent_vs</td>\n",
       "      <td>1</td>\n",
       "      <td>да</td>\n",
       "    </tr>\n",
       "    <tr>\n",
       "      <th>1703510943</th>\n",
       "      <td>01e4e560e10a506fc06f2549c1d0d37d</td>\n",
       "      <td>PennController</td>\n",
       "      <td>7</td>\n",
       "      <td>0</td>\n",
       "      <td>experiment</td>\n",
       "      <td>NaN</td>\n",
       "      <td>Selector</td>\n",
       "      <td>answer</td>\n",
       "      <td>Selection</td>\n",
       "      <td>sent_sv</td>\n",
       "      <td>1703510927573</td>\n",
       "      <td>undefined</td>\n",
       "      <td>horns</td>\n",
       "      <td>0</td>\n",
       "      <td>sent_sv;sent_vs</td>\n",
       "      <td>1</td>\n",
       "      <td>да</td>\n",
       "    </tr>\n",
       "  </tbody>\n",
       "</table>\n",
       "</div>"
      ],
      "text/plain": [
       "                                          ip      controller  item  element  \\\n",
       "id                                                                            \n",
       "1703510943  01e4e560e10a506fc06f2549c1d0d37d  PennController    11        0   \n",
       "1703510943  01e4e560e10a506fc06f2549c1d0d37d  PennController    12        0   \n",
       "1703510943  01e4e560e10a506fc06f2549c1d0d37d  PennController    18        0   \n",
       "1703510943  01e4e560e10a506fc06f2549c1d0d37d  PennController     3        0   \n",
       "1703510943  01e4e560e10a506fc06f2549c1d0d37d  PennController     7        0   \n",
       "\n",
       "                 label  square element-type element-name  parameter    value  \\\n",
       "id                                                                             \n",
       "1703510943  experiment     NaN     Selector       answer  Selection  sent_vs   \n",
       "1703510943  experiment     NaN     Selector       answer  Selection  sent_vs   \n",
       "1703510943  experiment     NaN     Selector       answer  Selection  sent_sv   \n",
       "1703510943  experiment     NaN     Selector       answer  Selection  sent_sv   \n",
       "1703510943  experiment     NaN     Selector       answer  Selection  sent_sv   \n",
       "\n",
       "               event-time       none  situation  count          comment  age  \\\n",
       "id                                                                             \n",
       "1703510943  1703510925433  undefined     moscow      0  sent_vs;sent_sv    1   \n",
       "1703510943  1703510926062  undefined     tigers      0  sent_vs;sent_sv    1   \n",
       "1703510943  1703510926585  undefined     wheels      0  sent_sv;sent_vs    1   \n",
       "1703510943  1703510927086  undefined  carriages      1  sent_sv;sent_vs    1   \n",
       "1703510943  1703510927573  undefined      horns      0  sent_sv;sent_vs    1   \n",
       "\n",
       "           linguist  \n",
       "id                   \n",
       "1703510943       да  \n",
       "1703510943       да  \n",
       "1703510943       да  \n",
       "1703510943       да  \n",
       "1703510943       да  "
      ]
     },
     "execution_count": 11,
     "metadata": {},
     "output_type": "execute_result"
    }
   ],
   "source": [
    "res = res.set_index('id').join(age.set_index('id')).join(linguist.set_index('id'))\n",
    "res.head()"
   ]
  },
  {
   "cell_type": "code",
   "execution_count": 12,
   "metadata": {},
   "outputs": [
    {
     "data": {
      "text/plain": [
       "(720, 17)"
      ]
     },
     "execution_count": 12,
     "metadata": {},
     "output_type": "execute_result"
    }
   ],
   "source": [
    "res = res[res.age >= 18]\n",
    "res.shape"
   ]
  },
  {
   "cell_type": "code",
   "execution_count": 13,
   "metadata": {},
   "outputs": [],
   "source": [
    "target_parameters = ['bows','carriages','computers','buttons','lightbulbs','horns','baskets','castles','drawers']\n",
    "target = res[res.situation.isin(target_parameters)]\n",
    "target = target.replace({'sent_vs': 0, 'sent_sv': 1})"
   ]
  },
  {
   "cell_type": "code",
   "execution_count": 14,
   "metadata": {},
   "outputs": [
    {
     "data": {
      "text/html": [
       "<div>\n",
       "<style scoped>\n",
       "    .dataframe tbody tr th:only-of-type {\n",
       "        vertical-align: middle;\n",
       "    }\n",
       "\n",
       "    .dataframe tbody tr th {\n",
       "        vertical-align: top;\n",
       "    }\n",
       "\n",
       "    .dataframe thead th {\n",
       "        text-align: right;\n",
       "    }\n",
       "</style>\n",
       "<table border=\"1\" class=\"dataframe\">\n",
       "  <thead>\n",
       "    <tr style=\"text-align: right;\">\n",
       "      <th></th>\n",
       "      <th>ip</th>\n",
       "      <th>controller</th>\n",
       "      <th>item</th>\n",
       "      <th>element</th>\n",
       "      <th>label</th>\n",
       "      <th>square</th>\n",
       "      <th>element-type</th>\n",
       "      <th>element-name</th>\n",
       "      <th>parameter</th>\n",
       "      <th>value</th>\n",
       "      <th>event-time</th>\n",
       "      <th>none</th>\n",
       "      <th>situation</th>\n",
       "      <th>count</th>\n",
       "      <th>comment</th>\n",
       "      <th>age</th>\n",
       "      <th>linguist</th>\n",
       "    </tr>\n",
       "    <tr>\n",
       "      <th>id</th>\n",
       "      <th></th>\n",
       "      <th></th>\n",
       "      <th></th>\n",
       "      <th></th>\n",
       "      <th></th>\n",
       "      <th></th>\n",
       "      <th></th>\n",
       "      <th></th>\n",
       "      <th></th>\n",
       "      <th></th>\n",
       "      <th></th>\n",
       "      <th></th>\n",
       "      <th></th>\n",
       "      <th></th>\n",
       "      <th></th>\n",
       "      <th></th>\n",
       "      <th></th>\n",
       "    </tr>\n",
       "  </thead>\n",
       "  <tbody>\n",
       "    <tr>\n",
       "      <th>1703514970</th>\n",
       "      <td>2ecb6ae22413454f01bdf5db98b4e6b4</td>\n",
       "      <td>PennController</td>\n",
       "      <td>7</td>\n",
       "      <td>0</td>\n",
       "      <td>experiment</td>\n",
       "      <td>NaN</td>\n",
       "      <td>Selector</td>\n",
       "      <td>answer</td>\n",
       "      <td>Selection</td>\n",
       "      <td>0</td>\n",
       "      <td>1703514657376</td>\n",
       "      <td>undefined</td>\n",
       "      <td>horns</td>\n",
       "      <td>2</td>\n",
       "      <td>sent_sv;sent_vs</td>\n",
       "      <td>19</td>\n",
       "      <td>да</td>\n",
       "    </tr>\n",
       "    <tr>\n",
       "      <th>1703514970</th>\n",
       "      <td>2ecb6ae22413454f01bdf5db98b4e6b4</td>\n",
       "      <td>PennController</td>\n",
       "      <td>8</td>\n",
       "      <td>0</td>\n",
       "      <td>experiment</td>\n",
       "      <td>NaN</td>\n",
       "      <td>Selector</td>\n",
       "      <td>answer</td>\n",
       "      <td>Selection</td>\n",
       "      <td>0</td>\n",
       "      <td>1703514679298</td>\n",
       "      <td>undefined</td>\n",
       "      <td>baskets</td>\n",
       "      <td>1</td>\n",
       "      <td>sent_vs;sent_sv</td>\n",
       "      <td>19</td>\n",
       "      <td>да</td>\n",
       "    </tr>\n",
       "    <tr>\n",
       "      <th>1703514970</th>\n",
       "      <td>2ecb6ae22413454f01bdf5db98b4e6b4</td>\n",
       "      <td>PennController</td>\n",
       "      <td>3</td>\n",
       "      <td>0</td>\n",
       "      <td>experiment</td>\n",
       "      <td>NaN</td>\n",
       "      <td>Selector</td>\n",
       "      <td>answer</td>\n",
       "      <td>Selection</td>\n",
       "      <td>0</td>\n",
       "      <td>1703514722416</td>\n",
       "      <td>undefined</td>\n",
       "      <td>carriages</td>\n",
       "      <td>0</td>\n",
       "      <td>sent_sv;sent_vs</td>\n",
       "      <td>19</td>\n",
       "      <td>да</td>\n",
       "    </tr>\n",
       "    <tr>\n",
       "      <th>1703514970</th>\n",
       "      <td>2ecb6ae22413454f01bdf5db98b4e6b4</td>\n",
       "      <td>PennController</td>\n",
       "      <td>6</td>\n",
       "      <td>0</td>\n",
       "      <td>experiment</td>\n",
       "      <td>NaN</td>\n",
       "      <td>Selector</td>\n",
       "      <td>answer</td>\n",
       "      <td>Selection</td>\n",
       "      <td>0</td>\n",
       "      <td>1703514756103</td>\n",
       "      <td>undefined</td>\n",
       "      <td>lightbulbs</td>\n",
       "      <td>0</td>\n",
       "      <td>sent_vs;sent_sv</td>\n",
       "      <td>19</td>\n",
       "      <td>да</td>\n",
       "    </tr>\n",
       "    <tr>\n",
       "      <th>1703514970</th>\n",
       "      <td>2ecb6ae22413454f01bdf5db98b4e6b4</td>\n",
       "      <td>PennController</td>\n",
       "      <td>2</td>\n",
       "      <td>0</td>\n",
       "      <td>experiment</td>\n",
       "      <td>NaN</td>\n",
       "      <td>Selector</td>\n",
       "      <td>answer</td>\n",
       "      <td>Selection</td>\n",
       "      <td>0</td>\n",
       "      <td>1703514766880</td>\n",
       "      <td>undefined</td>\n",
       "      <td>bows</td>\n",
       "      <td>1</td>\n",
       "      <td>sent_sv;sent_vs</td>\n",
       "      <td>19</td>\n",
       "      <td>да</td>\n",
       "    </tr>\n",
       "  </tbody>\n",
       "</table>\n",
       "</div>"
      ],
      "text/plain": [
       "                                          ip      controller  item  element  \\\n",
       "id                                                                            \n",
       "1703514970  2ecb6ae22413454f01bdf5db98b4e6b4  PennController     7        0   \n",
       "1703514970  2ecb6ae22413454f01bdf5db98b4e6b4  PennController     8        0   \n",
       "1703514970  2ecb6ae22413454f01bdf5db98b4e6b4  PennController     3        0   \n",
       "1703514970  2ecb6ae22413454f01bdf5db98b4e6b4  PennController     6        0   \n",
       "1703514970  2ecb6ae22413454f01bdf5db98b4e6b4  PennController     2        0   \n",
       "\n",
       "                 label  square element-type element-name  parameter  value  \\\n",
       "id                                                                           \n",
       "1703514970  experiment     NaN     Selector       answer  Selection      0   \n",
       "1703514970  experiment     NaN     Selector       answer  Selection      0   \n",
       "1703514970  experiment     NaN     Selector       answer  Selection      0   \n",
       "1703514970  experiment     NaN     Selector       answer  Selection      0   \n",
       "1703514970  experiment     NaN     Selector       answer  Selection      0   \n",
       "\n",
       "               event-time       none   situation  count          comment  age  \\\n",
       "id                                                                              \n",
       "1703514970  1703514657376  undefined       horns      2  sent_sv;sent_vs   19   \n",
       "1703514970  1703514679298  undefined     baskets      1  sent_vs;sent_sv   19   \n",
       "1703514970  1703514722416  undefined   carriages      0  sent_sv;sent_vs   19   \n",
       "1703514970  1703514756103  undefined  lightbulbs      0  sent_vs;sent_sv   19   \n",
       "1703514970  1703514766880  undefined        bows      1  sent_sv;sent_vs   19   \n",
       "\n",
       "           linguist  \n",
       "id                   \n",
       "1703514970       да  \n",
       "1703514970       да  \n",
       "1703514970       да  \n",
       "1703514970       да  \n",
       "1703514970       да  "
      ]
     },
     "execution_count": 14,
     "metadata": {},
     "output_type": "execute_result"
    }
   ],
   "source": [
    "target.head()"
   ]
  },
  {
   "cell_type": "code",
   "execution_count": 15,
   "metadata": {},
   "outputs": [],
   "source": [
    "import matplotlib.pyplot as plt"
   ]
  },
  {
   "cell_type": "code",
   "execution_count": 16,
   "metadata": {},
   "outputs": [
    {
     "data": {
      "text/plain": [
       "situation   count\n",
       "baskets     0        14\n",
       "            1        16\n",
       "            2        10\n",
       "bows        0        14\n",
       "            1        16\n",
       "            2        10\n",
       "buttons     0        14\n",
       "            1        16\n",
       "            2        10\n",
       "carriages   0        16\n",
       "            1        10\n",
       "            2        14\n",
       "castles     0        16\n",
       "            1        10\n",
       "            2        14\n",
       "computers   0        10\n",
       "            1        14\n",
       "            2        16\n",
       "drawers     0        10\n",
       "            1        14\n",
       "            2        16\n",
       "horns       0        10\n",
       "            1        14\n",
       "            2        16\n",
       "lightbulbs  0        16\n",
       "            1        10\n",
       "            2        14\n",
       "Name: value, dtype: int64"
      ]
     },
     "execution_count": 16,
     "metadata": {},
     "output_type": "execute_result"
    }
   ],
   "source": [
    "target.groupby(['situation', 'count'])['value'].count()"
   ]
  },
  {
   "cell_type": "code",
   "execution_count": 17,
   "metadata": {},
   "outputs": [],
   "source": [
    "stat = target.groupby(['situation', 'count'])['value'].mean()"
   ]
  },
  {
   "cell_type": "code",
   "execution_count": 18,
   "metadata": {},
   "outputs": [],
   "source": [
    "legend = ['≤1', '1', '≥1']"
   ]
  },
  {
   "cell_type": "code",
   "execution_count": 20,
   "metadata": {},
   "outputs": [
    {
     "data": {
      "image/png": "[encoded data removed]",
      "text/plain": [
       "<Figure size 700x700 with 1 Axes>"
      ]
     },
     "metadata": {},
     "output_type": "display_data"
    }
   ],
   "source": [
    "plt.figure(figsize=(7,7))\n",
    "plt.bar(legend, stat.groupby('count').mean())\n",
    "plt.ylim((0, 1))\n",
    "plt.legend([r'freq of SV'])\n",
    "plt.show()"
   ]
  },
  {
   "cell_type": "code",
   "execution_count": 21,
   "metadata": {},
   "outputs": [
    {
     "data": {
      "image/png": "[encoded data removed]",
      "text/plain": [
       "<Figure size 900x700 with 9 Axes>"
      ]
     },
     "metadata": {},
     "output_type": "display_data"
    }
   ],
   "source": [
    "ax = stat.unstack(level=0).plot(kind='bar', subplots=True, rot=0, figsize=(9, 7), layout=(3,3))\n",
    "for axes in ax:\n",
    "    for axis in axes:\n",
    "        axis.set_ylim((0, 1))\n",
    "        axis.legend(['SV'])\n",
    "    "
   ]
  },
  {
   "cell_type": "code",
   "execution_count": 22,
   "metadata": {},
   "outputs": [],
   "source": [
    "from scipy import stats"
   ]
  },
  {
   "cell_type": "code",
   "execution_count": 23,
   "metadata": {},
   "outputs": [],
   "source": [
    "df_zero = target[target['count'] == 0]\n",
    "df_one = target[target['count'] == 1]\n",
    "df_two = target[target['count'] == 2]"
   ]
  },
  {
   "cell_type": "markdown",
   "metadata": {},
   "source": [
    "### dumb plots"
   ]
  },
  {
   "cell_type": "code",
   "execution_count": 86,
   "metadata": {},
   "outputs": [],
   "source": [
    "resps = target.groupby('id').first()"
   ]
  },
  {
   "cell_type": "code",
   "execution_count": 95,
   "metadata": {},
   "outputs": [
    {
     "data": {
      "image/png": "[encoded data removed]",
      "text/plain": [
       "<Figure size 700x700 with 1 Axes>"
      ]
     },
     "metadata": {},
     "output_type": "display_data"
    }
   ],
   "source": [
    "plt.figure(figsize=(7, 7))\n",
    "plt.hist(resps.linguist)\n",
    "plt.show()"
   ]
  },
  {
   "cell_type": "markdown",
   "metadata": {},
   "source": [
    "### t test"
   ]
  },
  {
   "cell_type": "code",
   "execution_count": 24,
   "metadata": {},
   "outputs": [
    {
     "data": {
      "text/plain": [
       "Ttest_indResult(statistic=-0.9106740717564223, pvalue=0.18169426102110714)"
      ]
     },
     "execution_count": 24,
     "metadata": {},
     "output_type": "execute_result"
    }
   ],
   "source": [
    "stats.ttest_ind(df_zero['value'], df_one['value'], alternative='less')"
   ]
  },
  {
   "cell_type": "code",
   "execution_count": 40,
   "metadata": {},
   "outputs": [
    {
     "data": {
      "text/plain": [
       "Ttest_indResult(statistic=-1.949227832839643, pvalue=0.026221503200795356)"
      ]
     },
     "execution_count": 40,
     "metadata": {},
     "output_type": "execute_result"
    }
   ],
   "source": [
    "stats.ttest_ind(df_two['value'], df_one['value'], alternative='less')"
   ]
  },
  {
   "cell_type": "code",
   "execution_count": 26,
   "metadata": {},
   "outputs": [
    {
     "data": {
      "text/plain": [
       "Ttest_indResult(statistic=-1.0309202390160692, pvalue=0.15181235797863943)"
      ]
     },
     "execution_count": 26,
     "metadata": {},
     "output_type": "execute_result"
    }
   ],
   "source": [
    "stats.ttest_ind(df_two['value'], df_zero['value'], alternative='less')"
   ]
  },
  {
   "cell_type": "markdown",
   "metadata": {},
   "source": [
    "### linreg"
   ]
  },
  {
   "cell_type": "code",
   "execution_count": 42,
   "metadata": {},
   "outputs": [
    {
     "data": {
      "text/plain": [
       "LinregressResult(slope=0.2013986013986018, intercept=0.4909090909090907, rvalue=0.20483662259967603, pvalue=0.9875914768973308, stderr=0.08859314212220112, intercept_stderr=0.06520278713498974)"
      ]
     },
     "execution_count": 42,
     "metadata": {},
     "output_type": "execute_result"
    }
   ],
   "source": [
    "stats.linregress(df_zero['value'], df_one['value'], alternative='less')"
   ]
  },
  {
   "cell_type": "code",
   "execution_count": 43,
   "metadata": {},
   "outputs": [
    {
     "data": {
      "text/plain": [
       "LinregressResult(slope=0.16040100250626532, intercept=0.523809523809524, rvalue=0.1635038238626574, pvalue=0.9628186855817653, stderr=0.08909514688568147, intercept_stderr=0.061404592412343674)"
      ]
     },
     "execution_count": 43,
     "metadata": {},
     "output_type": "execute_result"
    }
   ],
   "source": [
    "stats.linregress(df_two['value'], df_one['value'], alternative='less')"
   ]
  },
  {
   "cell_type": "markdown",
   "metadata": {},
   "source": [
    "### mixed effects linreg"
   ]
  },
  {
   "cell_type": "code",
   "execution_count": null,
   "metadata": {},
   "outputs": [],
   "source": [
    "%pip install statsmodels"
   ]
  },
  {
   "cell_type": "code",
   "execution_count": 24,
   "metadata": {},
   "outputs": [],
   "source": [
    "import statsmodels.api as sm\n",
    "import statsmodels.formula.api as smf"
   ]
  },
  {
   "cell_type": "code",
   "execution_count": 73,
   "metadata": {},
   "outputs": [],
   "source": [
    "model = smf.mixedlm(\"value ~ C(count, Treatment(1)) + C(situation)\", target.reset_index(), groups='id', ).fit()"
   ]
  },
  {
   "cell_type": "code",
   "execution_count": 74,
   "metadata": {},
   "outputs": [
    {
     "data": {
      "text/html": [
       "<table class=\"simpletable\">\n",
       "<tr>\n",
       "       <td>Model:</td>       <td>MixedLM</td> <td>Dependent Variable:</td>   <td>value</td>  \n",
       "</tr>\n",
       "<tr>\n",
       "  <td>No. Observations:</td>   <td>360</td>         <td>Method:</td>         <td>REML</td>   \n",
       "</tr>\n",
       "<tr>\n",
       "     <td>No. Groups:</td>      <td>40</td>          <td>Scale:</td>         <td>0.1840</td>  \n",
       "</tr>\n",
       "<tr>\n",
       "  <td>Min. group size:</td>     <td>9</td>      <td>Log-Likelihood:</td>   <td>-242.9984</td>\n",
       "</tr>\n",
       "<tr>\n",
       "  <td>Max. group size:</td>     <td>9</td>        <td>Converged:</td>         <td>Yes</td>   \n",
       "</tr>\n",
       "<tr>\n",
       "  <td>Mean group size:</td>    <td>9.0</td>            <td></td>               <td></td>     \n",
       "</tr>\n",
       "</table>\n",
       "<table class=\"simpletable\">\n",
       "<tr>\n",
       "               <td></td>                <th>Coef.</th> <th>Std.Err.</th>    <th>z</th>   <th>P>|z|</th> <th>[0.025</th> <th>0.975]</th>\n",
       "</tr>\n",
       "<tr>\n",
       "  <th>Intercept</th>                    <td>0.860</td>   <td>0.081</td>  <td>10.626</td> <td>0.000</td>  <td>0.701</td>  <td>1.018</td>\n",
       "</tr>\n",
       "<tr>\n",
       "  <th>C(count, Treatment(1))[T.0]</th> <td>-0.077</td>   <td>0.056</td>  <td>-1.374</td> <td>0.169</td> <td>-0.186</td>  <td>0.033</td>\n",
       "</tr>\n",
       "<tr>\n",
       "  <th>C(count, Treatment(1))[T.2]</th> <td>-0.132</td>   <td>0.056</td>  <td>-2.361</td> <td>0.018</td> <td>-0.241</td> <td>-0.022</td>\n",
       "</tr>\n",
       "<tr>\n",
       "  <th>C(situation)[T.bows]</th>        <td>-0.350</td>   <td>0.096</td>  <td>-3.649</td> <td>0.000</td> <td>-0.538</td> <td>-0.162</td>\n",
       "</tr>\n",
       "<tr>\n",
       "  <th>C(situation)[T.buttons]</th>     <td>-0.450</td>   <td>0.096</td>  <td>-4.691</td> <td>0.000</td> <td>-0.638</td> <td>-0.262</td>\n",
       "</tr>\n",
       "<tr>\n",
       "  <th>C(situation)[T.carriages]</th>   <td>-0.233</td>   <td>0.096</td>  <td>-2.422</td> <td>0.015</td> <td>-0.422</td> <td>-0.044</td>\n",
       "</tr>\n",
       "<tr>\n",
       "  <th>C(situation)[T.castles]</th>      <td>0.017</td>   <td>0.096</td>   <td>0.177</td> <td>0.860</td> <td>-0.172</td>  <td>0.206</td>\n",
       "</tr>\n",
       "<tr>\n",
       "  <th>C(situation)[T.computers]</th>   <td>-0.238</td>   <td>0.096</td>  <td>-2.473</td> <td>0.013</td> <td>-0.426</td> <td>-0.049</td>\n",
       "</tr>\n",
       "<tr>\n",
       "  <th>C(situation)[T.drawers]</th>     <td>-0.263</td>   <td>0.096</td>  <td>-2.733</td> <td>0.006</td> <td>-0.451</td> <td>-0.074</td>\n",
       "</tr>\n",
       "<tr>\n",
       "  <th>C(situation)[T.horns]</th>       <td>-0.438</td>   <td>0.096</td>  <td>-4.552</td> <td>0.000</td> <td>-0.626</td> <td>-0.249</td>\n",
       "</tr>\n",
       "<tr>\n",
       "  <th>C(situation)[T.lightbulbs]</th>  <td>-0.308</td>   <td>0.096</td>  <td>-3.201</td> <td>0.001</td> <td>-0.497</td> <td>-0.119</td>\n",
       "</tr>\n",
       "<tr>\n",
       "  <th>id Var</th>                       <td>0.044</td>   <td>0.036</td>     <td></td>      <td></td>       <td></td>       <td></td>   \n",
       "</tr>\n",
       "</table><br/>\n"
      ],
      "text/latex": [
       "\\begin{table}\n",
       "\\caption{Mixed Linear Model Regression Results}\n",
       "\\label{}\n",
       "\\begin{center}\n",
       "\\begin{tabular}{llll}\n",
       "\\hline\n",
       "Model:            & MixedLM & Dependent Variable: & value      \\\\\n",
       "No. Observations: & 360     & Method:             & REML       \\\\\n",
       "No. Groups:       & 40      & Scale:              & 0.1840     \\\\\n",
       "Min. group size:  & 9       & Log-Likelihood:     & -242.9984  \\\\\n",
       "Max. group size:  & 9       & Converged:          & Yes        \\\\\n",
       "Mean group size:  & 9.0     &                     &            \\\\\n",
       "\\hline\n",
       "\\end{tabular}\n",
       "\\end{center}\n",
       "\n",
       "\\begin{center}\n",
       "\\begin{tabular}{lrrrrrr}\n",
       "\\hline\n",
       "                            &  Coef. & Std.Err. &      z & P$> |$z$|$ & [0.025 & 0.975]  \\\\\n",
       "\\hline\n",
       "Intercept                   &  0.860 &    0.081 & 10.626 &       0.000 &  0.701 &  1.018  \\\\\n",
       "C(count, Treatment(1))[T.0] & -0.077 &    0.056 & -1.374 &       0.169 & -0.186 &  0.033  \\\\\n",
       "C(count, Treatment(1))[T.2] & -0.132 &    0.056 & -2.361 &       0.018 & -0.241 & -0.022  \\\\\n",
       "C(situation)[T.bows]        & -0.350 &    0.096 & -3.649 &       0.000 & -0.538 & -0.162  \\\\\n",
       "C(situation)[T.buttons]     & -0.450 &    0.096 & -4.691 &       0.000 & -0.638 & -0.262  \\\\\n",
       "C(situation)[T.carriages]   & -0.233 &    0.096 & -2.422 &       0.015 & -0.422 & -0.044  \\\\\n",
       "C(situation)[T.castles]     &  0.017 &    0.096 &  0.177 &       0.860 & -0.172 &  0.206  \\\\\n",
       "C(situation)[T.computers]   & -0.238 &    0.096 & -2.473 &       0.013 & -0.426 & -0.049  \\\\\n",
       "C(situation)[T.drawers]     & -0.263 &    0.096 & -2.733 &       0.006 & -0.451 & -0.074  \\\\\n",
       "C(situation)[T.horns]       & -0.438 &    0.096 & -4.552 &       0.000 & -0.626 & -0.249  \\\\\n",
       "C(situation)[T.lightbulbs]  & -0.308 &    0.096 & -3.201 &       0.001 & -0.497 & -0.119  \\\\\n",
       "id Var                      &  0.044 &    0.036 &        &             &        &         \\\\\n",
       "\\hline\n",
       "\\end{tabular}\n",
       "\\end{center}\n",
       "\\end{table}\n",
       "\\bigskip\n"
      ],
      "text/plain": [
       "<class 'statsmodels.iolib.summary2.Summary'>\n",
       "\"\"\"\n",
       "                Mixed Linear Model Regression Results\n",
       "======================================================================\n",
       "Model:                 MixedLM      Dependent Variable:      value    \n",
       "No. Observations:      360          Method:                  REML     \n",
       "No. Groups:            40           Scale:                   0.1840   \n",
       "Min. group size:       9            Log-Likelihood:          -242.9984\n",
       "Max. group size:       9            Converged:               Yes      \n",
       "Mean group size:       9.0                                            \n",
       "----------------------------------------------------------------------\n",
       "                            Coef.  Std.Err.   z    P>|z| [0.025 0.975]\n",
       "----------------------------------------------------------------------\n",
       "Intercept                    0.860    0.081 10.626 0.000  0.701  1.018\n",
       "C(count, Treatment(1))[T.0] -0.077    0.056 -1.374 0.169 -0.186  0.033\n",
       "C(count, Treatment(1))[T.2] -0.132    0.056 -2.361 0.018 -0.241 -0.022\n",
       "C(situation)[T.bows]        -0.350    0.096 -3.649 0.000 -0.538 -0.162\n",
       "C(situation)[T.buttons]     -0.450    0.096 -4.691 0.000 -0.638 -0.262\n",
       "C(situation)[T.carriages]   -0.233    0.096 -2.422 0.015 -0.422 -0.044\n",
       "C(situation)[T.castles]      0.017    0.096  0.177 0.860 -0.172  0.206\n",
       "C(situation)[T.computers]   -0.238    0.096 -2.473 0.013 -0.426 -0.049\n",
       "C(situation)[T.drawers]     -0.263    0.096 -2.733 0.006 -0.451 -0.074\n",
       "C(situation)[T.horns]       -0.438    0.096 -4.552 0.000 -0.626 -0.249\n",
       "C(situation)[T.lightbulbs]  -0.308    0.096 -3.201 0.001 -0.497 -0.119\n",
       "id Var                       0.044    0.036                           \n",
       "======================================================================\n",
       "\n",
       "\"\"\""
      ]
     },
     "execution_count": 74,
     "metadata": {},
     "output_type": "execute_result"
    }
   ],
   "source": [
    "model.summary()"
   ]
  },
  {
   "cell_type": "markdown",
   "metadata": {},
   "source": [
    "#### mixed effects logreg"
   ]
  },
  {
   "cell_type": "code",
   "execution_count": null,
   "metadata": {},
   "outputs": [],
   "source": [
    "%pip install pymer4"
   ]
  },
  {
   "cell_type": "code",
   "execution_count": 35,
   "metadata": {},
   "outputs": [],
   "source": [
    "from pymer4.models import Lmer"
   ]
  },
  {
   "cell_type": "markdown",
   "metadata": {},
   "source": [
    "#### <=1"
   ]
  },
  {
   "cell_type": "code",
   "execution_count": 66,
   "metadata": {},
   "outputs": [],
   "source": [
    "le_df = target[target['count'].isin([0, 1])]"
   ]
  },
  {
   "cell_type": "code",
   "execution_count": 67,
   "metadata": {},
   "outputs": [
    {
     "name": "stderr",
     "output_type": "stream",
     "text": [
      "/home/retroflexivity/.local/lib/python3.9/site-packages/rpy2/robjects/pandas2ri.py:65: UserWarning: Error while trying to convert the column \"event-time\". Fall back to string conversion. The error is: integer 1703514679298 does not fit '32-bit int'\n",
      "  warnings.warn('Error while trying to convert '\n"
     ]
    },
    {
     "name": "stdout",
     "output_type": "stream",
     "text": [
      "Linear mixed model fit by maximum likelihood  ['lmerMod']\n",
      "Formula: value~count+(1|id)+(1|situation)\n",
      "\n",
      "Family: binomial\t Inference: parametric\n",
      "\n",
      "Number of observations: 240\t Groups: {'id': 40.0, 'situation': 9.0}\n",
      "\n",
      "Log-likelihood: -152.738 \t AIC: 313.476\n",
      "\n",
      "Random effects:\n",
      "\n",
      "                  Name    Var    Std\n",
      "id         (Intercept)  1.258  1.121\n",
      "situation  (Intercept)  0.573  0.757\n",
      "\n",
      "No random effect correlations specified\n",
      "\n",
      "Fixed effects:\n",
      "\n",
      "             Estimate  2.5_ci  97.5_ci     SE     OR  OR_2.5_ci  OR_97.5_ci  \\\n",
      "(Intercept)     0.216  -0.520    0.951  0.375  1.240      0.595       2.588   \n",
      "count           0.351  -0.246    0.949  0.305  1.421      0.782       2.582   \n",
      "\n",
      "              Prob  Prob_2.5_ci  Prob_97.5_ci  Z-stat  P-val Sig  \n",
      "(Intercept)  0.554        0.373         0.721   0.574  0.566      \n",
      "count        0.587        0.439         0.721   1.152  0.249      \n"
     ]
    }
   ],
   "source": [
    "le_model = Lmer(\"value ~ count + (1 | id) + (1 | situation)\", data=le_df.reset_index(), family='binomial').fit()\n",
    "print(le_model)"
   ]
  },
  {
   "cell_type": "markdown",
   "metadata": {},
   "source": [
    "#### >=1"
   ]
  },
  {
   "cell_type": "code",
   "execution_count": 68,
   "metadata": {},
   "outputs": [],
   "source": [
    "ge_df = target[target['count'].isin([2, 1])].copy()\n",
    "ge_df['count'] = ge_df['count'].replace(2, 0)"
   ]
  },
  {
   "cell_type": "code",
   "execution_count": 69,
   "metadata": {},
   "outputs": [
    {
     "name": "stderr",
     "output_type": "stream",
     "text": [
      "/home/retroflexivity/.local/lib/python3.9/site-packages/rpy2/robjects/pandas2ri.py:65: UserWarning: Error while trying to convert the column \"event-time\". Fall back to string conversion. The error is: integer 1703514657376 does not fit '32-bit int'\n",
      "  warnings.warn('Error while trying to convert '\n"
     ]
    },
    {
     "name": "stdout",
     "output_type": "stream",
     "text": [
      "Linear mixed model fit by maximum likelihood  ['lmerMod']\n",
      "Formula: value~count+(1|id)+(1|situation)\n",
      "\n",
      "Family: binomial\t Inference: parametric\n",
      "\n",
      "Number of observations: 240\t Groups: {'id': 40.0, 'situation': 9.0}\n",
      "\n",
      "Log-likelihood: -151.812 \t AIC: 311.624\n",
      "\n",
      "Random effects:\n",
      "\n",
      "                  Name    Var    Std\n",
      "id         (Intercept)  1.539  1.241\n",
      "situation  (Intercept)  0.633  0.796\n",
      "\n",
      "No random effect correlations specified\n",
      "\n",
      "Fixed effects:\n",
      "\n",
      "             Estimate  2.5_ci  97.5_ci     SE     OR  OR_2.5_ci  OR_97.5_ci  \\\n",
      "(Intercept)    -0.134  -0.909    0.641  0.395  0.875      0.403       1.899   \n",
      "count           0.741   0.124    1.357  0.315  2.097      1.132       3.886   \n",
      "\n",
      "              Prob  Prob_2.5_ci  Prob_97.5_ci  Z-stat  P-val Sig  \n",
      "(Intercept)  0.467        0.287         0.655  -0.338  0.735      \n",
      "count        0.677        0.531         0.795   2.353  0.019   *  \n"
     ]
    }
   ],
   "source": [
    "le_model = Lmer(\"value ~ count + (1 | id) + (1 | situation)\", data=ge_df.reset_index(), family='binomial').fit()\n",
    "print(le_model)"
   ]
  },
  {
   "cell_type": "markdown",
   "metadata": {},
   "source": [
    "#### <>1"
   ]
  },
  {
   "cell_type": "code",
   "execution_count": 56,
   "metadata": {},
   "outputs": [],
   "source": [
    "gl_df = target[target['count'].isin([2, 0])]"
   ]
  },
  {
   "cell_type": "code",
   "execution_count": 58,
   "metadata": {},
   "outputs": [
    {
     "name": "stderr",
     "output_type": "stream",
     "text": [
      "/home/retroflexivity/.local/lib/python3.9/site-packages/rpy2/robjects/pandas2ri.py:65: UserWarning: Error while trying to convert the column \"event-time\". Fall back to string conversion. The error is: integer 1703514657376 does not fit '32-bit int'\n",
      "  warnings.warn('Error while trying to convert '\n"
     ]
    },
    {
     "name": "stdout",
     "output_type": "stream",
     "text": [
      "Linear mixed model fit by maximum likelihood  ['lmerMod']\n",
      "Formula: value~count+(1|id)+(1|situation)\n",
      "\n",
      "Family: binomial\t Inference: parametric\n",
      "\n",
      "Number of observations: 240\t Groups: {'id': 40.0, 'situation': 9.0}\n",
      "\n",
      "Log-likelihood: -154.172 \t AIC: 316.344\n",
      "\n",
      "Random effects:\n",
      "\n",
      "                  Name    Var    Std\n",
      "id         (Intercept)  0.891  0.944\n",
      "situation  (Intercept)  0.778  0.882\n",
      "\n",
      "No random effect correlations specified\n",
      "\n",
      "Fixed effects:\n",
      "\n",
      "             Estimate  2.5_ci  97.5_ci     SE     OR  OR_2.5_ci  OR_97.5_ci  \\\n",
      "(Intercept)     0.210  -0.558    0.978  0.392  1.234      0.572       2.659   \n",
      "count          -0.184  -0.480    0.112  0.151  0.832      0.619       1.119   \n",
      "\n",
      "              Prob  Prob_2.5_ci  Prob_97.5_ci  Z-stat  P-val Sig  \n",
      "(Intercept)  0.552        0.364         0.727   0.536  0.592      \n",
      "count        0.454        0.382         0.528  -1.218  0.223      \n"
     ]
    }
   ],
   "source": [
    "le_model = Lmer(\"value ~ count + (1 | id) + (1 | situation)\", data=gl_df.reset_index(), family='binomial').fit()\n",
    "print(le_model)"
   ]
  }
 ],
 "metadata": {
  "kernelspec": {
   "display_name": "Python 3",
   "language": "python",
   "name": "python3"
  },
  "language_info": {
   "codemirror_mode": {
    "name": "ipython",
    "version": 3
   },
   "file_extension": ".py",
   "mimetype": "text/x-python",
   "name": "python",
   "nbconvert_exporter": "python",
   "pygments_lexer": "ipython3",
   "version": "3.9.2"
  }
 },
 "nbformat": 4,
 "nbformat_minor": 2
}
