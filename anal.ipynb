{
 "cells": [
  {
   "cell_type": "code",
   "execution_count": 3,
   "metadata": {},
   "outputs": [],
   "source": [
    "import pandas as pd"
   ]
  },
  {
   "cell_type": "code",
   "execution_count": 10,
   "metadata": {},
   "outputs": [],
   "source": [
    "with open('res.csv') as f0:\n",
    "    with open('responses.csv', 'w') as f1:\n",
    "        f1.write('id,ip,controller,item,element,label,square,element-type,element-name,parameter,value,event-time,none,situation,count,comment\\n')\n",
    "        for line in f0.readlines():\n",
    "            if (line.count('Selector')) and (line.count(',') == 15):\n",
    "                f1.write(line)"
   ]
  },
  {
   "cell_type": "code",
   "execution_count": 16,
   "metadata": {},
   "outputs": [],
   "source": [
    "with open('res.csv') as f0:\n",
    "    with open('age.csv', 'w') as f1:\n",
    "        f1.write('id,age\\n')\n",
    "        for line in f0.readlines():\n",
    "            if line.count('age,'):\n",
    "                cropped = line[line.find('Final') + 6:]\n",
    "                cropped = cropped[:cropped.find(',')]\n",
    "                f1.write(line[:line.find(',')] + ',' + cropped + '\\n')"
   ]
  },
  {
   "cell_type": "code",
   "execution_count": 17,
   "metadata": {},
   "outputs": [],
   "source": [
    "with open('res.csv') as f0:\n",
    "    with open('linguist.csv', 'w') as f1:\n",
    "        f1.write('id,linguist\\n')\n",
    "        for line in f0.readlines():\n",
    "            if line.count('linguist,'):\n",
    "                cropped = line[line.find('Choice') + 7:]\n",
    "                cropped = cropped[:cropped.find(',')]\n",
    "                f1.write(line[:line.find(',')] + ',' + cropped + '\\n')"
   ]
  },
  {
   "cell_type": "code",
   "execution_count": 12,
   "metadata": {},
   "outputs": [],
   "source": [
    "res = pd.read_csv('responses.csv')\n",
    "age = pd.read_csv('age.csv')\n",
    "linguist = pd.read_csv('linguist.csv')"
   ]
  },
  {
   "cell_type": "code",
   "execution_count": 13,
   "metadata": {},
   "outputs": [],
   "source": [
    "res = res.set_index('id').join(age.set_index('id'))"
   ]
  },
  {
   "cell_type": "code",
   "execution_count": 14,
   "metadata": {},
   "outputs": [
    {
     "data": {
      "text/html": [
       "<div>\n",
       "<style scoped>\n",
       "    .dataframe tbody tr th:only-of-type {\n",
       "        vertical-align: middle;\n",
       "    }\n",
       "\n",
       "    .dataframe tbody tr th {\n",
       "        vertical-align: top;\n",
       "    }\n",
       "\n",
       "    .dataframe thead th {\n",
       "        text-align: right;\n",
       "    }\n",
       "</style>\n",
       "<table border=\"1\" class=\"dataframe\">\n",
       "  <thead>\n",
       "    <tr style=\"text-align: right;\">\n",
       "      <th></th>\n",
       "      <th>ip</th>\n",
       "      <th>controller</th>\n",
       "      <th>item</th>\n",
       "      <th>element</th>\n",
       "      <th>label</th>\n",
       "      <th>square</th>\n",
       "      <th>element-type</th>\n",
       "      <th>element-name</th>\n",
       "      <th>parameter</th>\n",
       "      <th>value</th>\n",
       "      <th>event-time</th>\n",
       "      <th>none</th>\n",
       "      <th>situation</th>\n",
       "      <th>count</th>\n",
       "      <th>comment</th>\n",
       "      <th>age</th>\n",
       "    </tr>\n",
       "    <tr>\n",
       "      <th>id</th>\n",
       "      <th></th>\n",
       "      <th></th>\n",
       "      <th></th>\n",
       "      <th></th>\n",
       "      <th></th>\n",
       "      <th></th>\n",
       "      <th></th>\n",
       "      <th></th>\n",
       "      <th></th>\n",
       "      <th></th>\n",
       "      <th></th>\n",
       "      <th></th>\n",
       "      <th></th>\n",
       "      <th></th>\n",
       "      <th></th>\n",
       "      <th></th>\n",
       "    </tr>\n",
       "  </thead>\n",
       "  <tbody>\n",
       "    <tr>\n",
       "      <th>1703510943</th>\n",
       "      <td>01e4e560e10a506fc06f2549c1d0d37d</td>\n",
       "      <td>PennController</td>\n",
       "      <td>11</td>\n",
       "      <td>0</td>\n",
       "      <td>experiment</td>\n",
       "      <td>NaN</td>\n",
       "      <td>Selector</td>\n",
       "      <td>answer</td>\n",
       "      <td>Selection</td>\n",
       "      <td>sent_vs</td>\n",
       "      <td>1703510925433</td>\n",
       "      <td>undefined</td>\n",
       "      <td>moscow</td>\n",
       "      <td>0</td>\n",
       "      <td>sent_vs;sent_sv</td>\n",
       "      <td>1</td>\n",
       "    </tr>\n",
       "    <tr>\n",
       "      <th>1703510943</th>\n",
       "      <td>01e4e560e10a506fc06f2549c1d0d37d</td>\n",
       "      <td>PennController</td>\n",
       "      <td>12</td>\n",
       "      <td>0</td>\n",
       "      <td>experiment</td>\n",
       "      <td>NaN</td>\n",
       "      <td>Selector</td>\n",
       "      <td>answer</td>\n",
       "      <td>Selection</td>\n",
       "      <td>sent_vs</td>\n",
       "      <td>1703510926062</td>\n",
       "      <td>undefined</td>\n",
       "      <td>tigers</td>\n",
       "      <td>0</td>\n",
       "      <td>sent_vs;sent_sv</td>\n",
       "      <td>1</td>\n",
       "    </tr>\n",
       "    <tr>\n",
       "      <th>1703510943</th>\n",
       "      <td>01e4e560e10a506fc06f2549c1d0d37d</td>\n",
       "      <td>PennController</td>\n",
       "      <td>18</td>\n",
       "      <td>0</td>\n",
       "      <td>experiment</td>\n",
       "      <td>NaN</td>\n",
       "      <td>Selector</td>\n",
       "      <td>answer</td>\n",
       "      <td>Selection</td>\n",
       "      <td>sent_sv</td>\n",
       "      <td>1703510926585</td>\n",
       "      <td>undefined</td>\n",
       "      <td>wheels</td>\n",
       "      <td>0</td>\n",
       "      <td>sent_sv;sent_vs</td>\n",
       "      <td>1</td>\n",
       "    </tr>\n",
       "    <tr>\n",
       "      <th>1703510943</th>\n",
       "      <td>01e4e560e10a506fc06f2549c1d0d37d</td>\n",
       "      <td>PennController</td>\n",
       "      <td>3</td>\n",
       "      <td>0</td>\n",
       "      <td>experiment</td>\n",
       "      <td>NaN</td>\n",
       "      <td>Selector</td>\n",
       "      <td>answer</td>\n",
       "      <td>Selection</td>\n",
       "      <td>sent_sv</td>\n",
       "      <td>1703510927086</td>\n",
       "      <td>undefined</td>\n",
       "      <td>carriages</td>\n",
       "      <td>1</td>\n",
       "      <td>sent_sv;sent_vs</td>\n",
       "      <td>1</td>\n",
       "    </tr>\n",
       "    <tr>\n",
       "      <th>1703510943</th>\n",
       "      <td>01e4e560e10a506fc06f2549c1d0d37d</td>\n",
       "      <td>PennController</td>\n",
       "      <td>7</td>\n",
       "      <td>0</td>\n",
       "      <td>experiment</td>\n",
       "      <td>NaN</td>\n",
       "      <td>Selector</td>\n",
       "      <td>answer</td>\n",
       "      <td>Selection</td>\n",
       "      <td>sent_sv</td>\n",
       "      <td>1703510927573</td>\n",
       "      <td>undefined</td>\n",
       "      <td>horns</td>\n",
       "      <td>0</td>\n",
       "      <td>sent_sv;sent_vs</td>\n",
       "      <td>1</td>\n",
       "    </tr>\n",
       "  </tbody>\n",
       "</table>\n",
       "</div>"
      ],
      "text/plain": [
       "                                          ip      controller  item  element  \\\n",
       "id                                                                            \n",
       "1703510943  01e4e560e10a506fc06f2549c1d0d37d  PennController    11        0   \n",
       "1703510943  01e4e560e10a506fc06f2549c1d0d37d  PennController    12        0   \n",
       "1703510943  01e4e560e10a506fc06f2549c1d0d37d  PennController    18        0   \n",
       "1703510943  01e4e560e10a506fc06f2549c1d0d37d  PennController     3        0   \n",
       "1703510943  01e4e560e10a506fc06f2549c1d0d37d  PennController     7        0   \n",
       "\n",
       "                 label  square element-type element-name  parameter    value  \\\n",
       "id                                                                             \n",
       "1703510943  experiment     NaN     Selector       answer  Selection  sent_vs   \n",
       "1703510943  experiment     NaN     Selector       answer  Selection  sent_vs   \n",
       "1703510943  experiment     NaN     Selector       answer  Selection  sent_sv   \n",
       "1703510943  experiment     NaN     Selector       answer  Selection  sent_sv   \n",
       "1703510943  experiment     NaN     Selector       answer  Selection  sent_sv   \n",
       "\n",
       "               event-time       none  situation  count          comment  age  \n",
       "id                                                                            \n",
       "1703510943  1703510925433  undefined     moscow      0  sent_vs;sent_sv    1  \n",
       "1703510943  1703510926062  undefined     tigers      0  sent_vs;sent_sv    1  \n",
       "1703510943  1703510926585  undefined     wheels      0  sent_sv;sent_vs    1  \n",
       "1703510943  1703510927086  undefined  carriages      1  sent_sv;sent_vs    1  \n",
       "1703510943  1703510927573  undefined      horns      0  sent_sv;sent_vs    1  "
      ]
     },
     "execution_count": 14,
     "metadata": {},
     "output_type": "execute_result"
    }
   ],
   "source": [
    "res.head()"
   ]
  },
  {
   "cell_type": "code",
   "execution_count": 17,
   "metadata": {},
   "outputs": [],
   "source": [
    "res = res[res.age >= 18]"
   ]
  },
  {
   "cell_type": "code",
   "execution_count": 18,
   "metadata": {},
   "outputs": [
    {
     "data": {
      "text/plain": [
       "(630, 16)"
      ]
     },
     "execution_count": 18,
     "metadata": {},
     "output_type": "execute_result"
    }
   ],
   "source": [
    "res.shape"
   ]
  },
  {
   "cell_type": "code",
   "execution_count": 21,
   "metadata": {},
   "outputs": [],
   "source": [
    "target_parameters = ['bows','carriages','computers','buttons','lightbulbs','horns','baskets','castles','drawers']"
   ]
  },
  {
   "cell_type": "code",
   "execution_count": 27,
   "metadata": {},
   "outputs": [],
   "source": [
    "target = res[res.situation.isin(target_parameters)]"
   ]
  },
  {
   "cell_type": "code",
   "execution_count": 28,
   "metadata": {},
   "outputs": [
    {
     "data": {
      "text/plain": [
       "(315, 16)"
      ]
     },
     "execution_count": 28,
     "metadata": {},
     "output_type": "execute_result"
    }
   ],
   "source": [
    "target.shape"
   ]
  },
  {
   "cell_type": "code",
   "execution_count": 29,
   "metadata": {},
   "outputs": [
    {
     "data": {
      "text/html": [
       "<div>\n",
       "<style scoped>\n",
       "    .dataframe tbody tr th:only-of-type {\n",
       "        vertical-align: middle;\n",
       "    }\n",
       "\n",
       "    .dataframe tbody tr th {\n",
       "        vertical-align: top;\n",
       "    }\n",
       "\n",
       "    .dataframe thead th {\n",
       "        text-align: right;\n",
       "    }\n",
       "</style>\n",
       "<table border=\"1\" class=\"dataframe\">\n",
       "  <thead>\n",
       "    <tr style=\"text-align: right;\">\n",
       "      <th></th>\n",
       "      <th>ip</th>\n",
       "      <th>controller</th>\n",
       "      <th>item</th>\n",
       "      <th>element</th>\n",
       "      <th>label</th>\n",
       "      <th>square</th>\n",
       "      <th>element-type</th>\n",
       "      <th>element-name</th>\n",
       "      <th>parameter</th>\n",
       "      <th>value</th>\n",
       "      <th>event-time</th>\n",
       "      <th>none</th>\n",
       "      <th>situation</th>\n",
       "      <th>count</th>\n",
       "      <th>comment</th>\n",
       "      <th>age</th>\n",
       "    </tr>\n",
       "    <tr>\n",
       "      <th>id</th>\n",
       "      <th></th>\n",
       "      <th></th>\n",
       "      <th></th>\n",
       "      <th></th>\n",
       "      <th></th>\n",
       "      <th></th>\n",
       "      <th></th>\n",
       "      <th></th>\n",
       "      <th></th>\n",
       "      <th></th>\n",
       "      <th></th>\n",
       "      <th></th>\n",
       "      <th></th>\n",
       "      <th></th>\n",
       "      <th></th>\n",
       "      <th></th>\n",
       "    </tr>\n",
       "  </thead>\n",
       "  <tbody>\n",
       "    <tr>\n",
       "      <th>1703514970</th>\n",
       "      <td>2ecb6ae22413454f01bdf5db98b4e6b4</td>\n",
       "      <td>PennController</td>\n",
       "      <td>7</td>\n",
       "      <td>0</td>\n",
       "      <td>experiment</td>\n",
       "      <td>NaN</td>\n",
       "      <td>Selector</td>\n",
       "      <td>answer</td>\n",
       "      <td>Selection</td>\n",
       "      <td>sent_vs</td>\n",
       "      <td>1703514657376</td>\n",
       "      <td>undefined</td>\n",
       "      <td>horns</td>\n",
       "      <td>2</td>\n",
       "      <td>sent_sv;sent_vs</td>\n",
       "      <td>19</td>\n",
       "    </tr>\n",
       "    <tr>\n",
       "      <th>1703514970</th>\n",
       "      <td>2ecb6ae22413454f01bdf5db98b4e6b4</td>\n",
       "      <td>PennController</td>\n",
       "      <td>8</td>\n",
       "      <td>0</td>\n",
       "      <td>experiment</td>\n",
       "      <td>NaN</td>\n",
       "      <td>Selector</td>\n",
       "      <td>answer</td>\n",
       "      <td>Selection</td>\n",
       "      <td>sent_vs</td>\n",
       "      <td>1703514679298</td>\n",
       "      <td>undefined</td>\n",
       "      <td>baskets</td>\n",
       "      <td>1</td>\n",
       "      <td>sent_vs;sent_sv</td>\n",
       "      <td>19</td>\n",
       "    </tr>\n",
       "    <tr>\n",
       "      <th>1703514970</th>\n",
       "      <td>2ecb6ae22413454f01bdf5db98b4e6b4</td>\n",
       "      <td>PennController</td>\n",
       "      <td>3</td>\n",
       "      <td>0</td>\n",
       "      <td>experiment</td>\n",
       "      <td>NaN</td>\n",
       "      <td>Selector</td>\n",
       "      <td>answer</td>\n",
       "      <td>Selection</td>\n",
       "      <td>sent_vs</td>\n",
       "      <td>1703514722416</td>\n",
       "      <td>undefined</td>\n",
       "      <td>carriages</td>\n",
       "      <td>0</td>\n",
       "      <td>sent_sv;sent_vs</td>\n",
       "      <td>19</td>\n",
       "    </tr>\n",
       "    <tr>\n",
       "      <th>1703514970</th>\n",
       "      <td>2ecb6ae22413454f01bdf5db98b4e6b4</td>\n",
       "      <td>PennController</td>\n",
       "      <td>6</td>\n",
       "      <td>0</td>\n",
       "      <td>experiment</td>\n",
       "      <td>NaN</td>\n",
       "      <td>Selector</td>\n",
       "      <td>answer</td>\n",
       "      <td>Selection</td>\n",
       "      <td>sent_vs</td>\n",
       "      <td>1703514756103</td>\n",
       "      <td>undefined</td>\n",
       "      <td>lightbulbs</td>\n",
       "      <td>0</td>\n",
       "      <td>sent_vs;sent_sv</td>\n",
       "      <td>19</td>\n",
       "    </tr>\n",
       "    <tr>\n",
       "      <th>1703514970</th>\n",
       "      <td>2ecb6ae22413454f01bdf5db98b4e6b4</td>\n",
       "      <td>PennController</td>\n",
       "      <td>2</td>\n",
       "      <td>0</td>\n",
       "      <td>experiment</td>\n",
       "      <td>NaN</td>\n",
       "      <td>Selector</td>\n",
       "      <td>answer</td>\n",
       "      <td>Selection</td>\n",
       "      <td>sent_vs</td>\n",
       "      <td>1703514766880</td>\n",
       "      <td>undefined</td>\n",
       "      <td>bows</td>\n",
       "      <td>1</td>\n",
       "      <td>sent_sv;sent_vs</td>\n",
       "      <td>19</td>\n",
       "    </tr>\n",
       "  </tbody>\n",
       "</table>\n",
       "</div>"
      ],
      "text/plain": [
       "                                          ip      controller  item  element  \\\n",
       "id                                                                            \n",
       "1703514970  2ecb6ae22413454f01bdf5db98b4e6b4  PennController     7        0   \n",
       "1703514970  2ecb6ae22413454f01bdf5db98b4e6b4  PennController     8        0   \n",
       "1703514970  2ecb6ae22413454f01bdf5db98b4e6b4  PennController     3        0   \n",
       "1703514970  2ecb6ae22413454f01bdf5db98b4e6b4  PennController     6        0   \n",
       "1703514970  2ecb6ae22413454f01bdf5db98b4e6b4  PennController     2        0   \n",
       "\n",
       "                 label  square element-type element-name  parameter    value  \\\n",
       "id                                                                             \n",
       "1703514970  experiment     NaN     Selector       answer  Selection  sent_vs   \n",
       "1703514970  experiment     NaN     Selector       answer  Selection  sent_vs   \n",
       "1703514970  experiment     NaN     Selector       answer  Selection  sent_vs   \n",
       "1703514970  experiment     NaN     Selector       answer  Selection  sent_vs   \n",
       "1703514970  experiment     NaN     Selector       answer  Selection  sent_vs   \n",
       "\n",
       "               event-time       none   situation  count          comment  age  \n",
       "id                                                                             \n",
       "1703514970  1703514657376  undefined       horns      2  sent_sv;sent_vs   19  \n",
       "1703514970  1703514679298  undefined     baskets      1  sent_vs;sent_sv   19  \n",
       "1703514970  1703514722416  undefined   carriages      0  sent_sv;sent_vs   19  \n",
       "1703514970  1703514756103  undefined  lightbulbs      0  sent_vs;sent_sv   19  \n",
       "1703514970  1703514766880  undefined        bows      1  sent_sv;sent_vs   19  "
      ]
     },
     "execution_count": 29,
     "metadata": {},
     "output_type": "execute_result"
    }
   ],
   "source": [
    "target.head()"
   ]
  },
  {
   "cell_type": "code",
   "execution_count": 30,
   "metadata": {},
   "outputs": [],
   "source": [
    "import matplotlib.pyplot as plt"
   ]
  },
  {
   "cell_type": "code",
   "execution_count": 49,
   "metadata": {},
   "outputs": [],
   "source": [
    "stat = target[target.value == 'sent_vs'].groupby(['situation', 'count'])['value'].count() / target.groupby(['situation', 'count'])['value'].count()"
   ]
  },
  {
   "cell_type": "code",
   "execution_count": 52,
   "metadata": {},
   "outputs": [
    {
     "data": {
      "text/plain": [
       "count\n",
       "0    0.415675\n",
       "1    0.411111\n",
       "2    0.535714\n",
       "Name: value, dtype: float64"
      ]
     },
     "execution_count": 52,
     "metadata": {},
     "output_type": "execute_result"
    }
   ],
   "source": [
    "stat.groupby('count').mean()"
   ]
  },
  {
   "cell_type": "code",
   "execution_count": null,
   "metadata": {},
   "outputs": [],
   "source": []
  },
  {
   "cell_type": "code",
   "execution_count": 54,
   "metadata": {},
   "outputs": [
    {
     "ename": "KeyError",
     "evalue": "'situation'",
     "output_type": "error",
     "traceback": [
      "\u001b[0;31m---------------------------------------------------------------------------\u001b[0m",
      "\u001b[0;31mKeyError\u001b[0m                                  Traceback (most recent call last)",
      "File \u001b[0;32m~/.local/lib/python3.9/site-packages/pandas/core/indexes/base.py:3800\u001b[0m, in \u001b[0;36mIndex.get_loc\u001b[0;34m(self, key, method, tolerance)\u001b[0m\n\u001b[1;32m   3799\u001b[0m \u001b[39mtry\u001b[39;00m:\n\u001b[0;32m-> 3800\u001b[0m     \u001b[39mreturn\u001b[39;00m \u001b[39mself\u001b[39;49m\u001b[39m.\u001b[39;49m_engine\u001b[39m.\u001b[39;49mget_loc(casted_key)\n\u001b[1;32m   3801\u001b[0m \u001b[39mexcept\u001b[39;00m \u001b[39mKeyError\u001b[39;00m \u001b[39mas\u001b[39;00m err:\n",
      "File \u001b[0;32m~/.local/lib/python3.9/site-packages/pandas/_libs/index.pyx:138\u001b[0m, in \u001b[0;36mpandas._libs.index.IndexEngine.get_loc\u001b[0;34m()\u001b[0m\n",
      "File \u001b[0;32m~/.local/lib/python3.9/site-packages/pandas/_libs/index.pyx:165\u001b[0m, in \u001b[0;36mpandas._libs.index.IndexEngine.get_loc\u001b[0;34m()\u001b[0m\n",
      "File \u001b[0;32mpandas/_libs/hashtable_class_helper.pxi:5745\u001b[0m, in \u001b[0;36mpandas._libs.hashtable.PyObjectHashTable.get_item\u001b[0;34m()\u001b[0m\n",
      "File \u001b[0;32mpandas/_libs/hashtable_class_helper.pxi:5753\u001b[0m, in \u001b[0;36mpandas._libs.hashtable.PyObjectHashTable.get_item\u001b[0;34m()\u001b[0m\n",
      "\u001b[0;31mKeyError\u001b[0m: 'situation'",
      "\nThe above exception was the direct cause of the following exception:\n",
      "\u001b[0;31mKeyError\u001b[0m                                  Traceback (most recent call last)",
      "\u001b[1;32m/home/retroflexivity/coding/experiments/expres-conditionals/anal.ipynb Cell 17\u001b[0m line \u001b[0;36m1\n\u001b[0;32m----> <a href='vscode-notebook-cell:/home/retroflexivity/coding/experiments/expres-conditionals/anal.ipynb#X23sZmlsZQ%3D%3D?line=0'>1</a>\u001b[0m plt\u001b[39m.\u001b[39mplot(stat[\u001b[39m'\u001b[39m\u001b[39msituation\u001b[39m\u001b[39m'\u001b[39m], stat[\u001b[39m'\u001b[39m\u001b[39mcount\u001b[39m\u001b[39m'\u001b[39m], stat)\n",
      "File \u001b[0;32m~/.local/lib/python3.9/site-packages/pandas/core/series.py:982\u001b[0m, in \u001b[0;36mSeries.__getitem__\u001b[0;34m(self, key)\u001b[0m\n\u001b[1;32m    979\u001b[0m     \u001b[39mreturn\u001b[39;00m \u001b[39mself\u001b[39m\u001b[39m.\u001b[39m_values[key]\n\u001b[1;32m    981\u001b[0m \u001b[39melif\u001b[39;00m key_is_scalar:\n\u001b[0;32m--> 982\u001b[0m     \u001b[39mreturn\u001b[39;00m \u001b[39mself\u001b[39;49m\u001b[39m.\u001b[39;49m_get_value(key)\n\u001b[1;32m    984\u001b[0m \u001b[39mif\u001b[39;00m is_hashable(key):\n\u001b[1;32m    985\u001b[0m     \u001b[39m# Otherwise index.get_value will raise InvalidIndexError\u001b[39;00m\n\u001b[1;32m    986\u001b[0m     \u001b[39mtry\u001b[39;00m:\n\u001b[1;32m    987\u001b[0m         \u001b[39m# For labels that don't resolve as scalars like tuples and frozensets\u001b[39;00m\n",
      "File \u001b[0;32m~/.local/lib/python3.9/site-packages/pandas/core/series.py:1092\u001b[0m, in \u001b[0;36mSeries._get_value\u001b[0;34m(self, label, takeable)\u001b[0m\n\u001b[1;32m   1089\u001b[0m     \u001b[39mreturn\u001b[39;00m \u001b[39mself\u001b[39m\u001b[39m.\u001b[39m_values[label]\n\u001b[1;32m   1091\u001b[0m \u001b[39m# Similar to Index.get_value, but we do not fall back to positional\u001b[39;00m\n\u001b[0;32m-> 1092\u001b[0m loc \u001b[39m=\u001b[39m \u001b[39mself\u001b[39;49m\u001b[39m.\u001b[39;49mindex\u001b[39m.\u001b[39;49mget_loc(label)\n\u001b[1;32m   1093\u001b[0m \u001b[39mreturn\u001b[39;00m \u001b[39mself\u001b[39m\u001b[39m.\u001b[39mindex\u001b[39m.\u001b[39m_get_values_for_loc(\u001b[39mself\u001b[39m, loc, label)\n",
      "File \u001b[0;32m~/.local/lib/python3.9/site-packages/pandas/core/indexes/multi.py:2915\u001b[0m, in \u001b[0;36mMultiIndex.get_loc\u001b[0;34m(self, key, method)\u001b[0m\n\u001b[1;32m   2912\u001b[0m     \u001b[39mreturn\u001b[39;00m mask\n\u001b[1;32m   2914\u001b[0m \u001b[39mif\u001b[39;00m \u001b[39mnot\u001b[39;00m \u001b[39misinstance\u001b[39m(key, \u001b[39mtuple\u001b[39m):\n\u001b[0;32m-> 2915\u001b[0m     loc \u001b[39m=\u001b[39m \u001b[39mself\u001b[39;49m\u001b[39m.\u001b[39;49m_get_level_indexer(key, level\u001b[39m=\u001b[39;49m\u001b[39m0\u001b[39;49m)\n\u001b[1;32m   2916\u001b[0m     \u001b[39mreturn\u001b[39;00m _maybe_to_slice(loc)\n\u001b[1;32m   2918\u001b[0m keylen \u001b[39m=\u001b[39m \u001b[39mlen\u001b[39m(key)\n",
      "File \u001b[0;32m~/.local/lib/python3.9/site-packages/pandas/core/indexes/multi.py:3262\u001b[0m, in \u001b[0;36mMultiIndex._get_level_indexer\u001b[0;34m(self, key, level, indexer)\u001b[0m\n\u001b[1;32m   3258\u001b[0m         \u001b[39mreturn\u001b[39;00m \u001b[39mslice\u001b[39m(i, j, step)\n\u001b[1;32m   3260\u001b[0m \u001b[39melse\u001b[39;00m:\n\u001b[0;32m-> 3262\u001b[0m     idx \u001b[39m=\u001b[39m \u001b[39mself\u001b[39;49m\u001b[39m.\u001b[39;49m_get_loc_single_level_index(level_index, key)\n\u001b[1;32m   3264\u001b[0m     \u001b[39mif\u001b[39;00m level \u001b[39m>\u001b[39m \u001b[39m0\u001b[39m \u001b[39mor\u001b[39;00m \u001b[39mself\u001b[39m\u001b[39m.\u001b[39m_lexsort_depth \u001b[39m==\u001b[39m \u001b[39m0\u001b[39m:\n\u001b[1;32m   3265\u001b[0m         \u001b[39m# Desired level is not sorted\u001b[39;00m\n\u001b[1;32m   3266\u001b[0m         \u001b[39mif\u001b[39;00m \u001b[39misinstance\u001b[39m(idx, \u001b[39mslice\u001b[39m):\n\u001b[1;32m   3267\u001b[0m             \u001b[39m# test_get_loc_partial_timestamp_multiindex\u001b[39;00m\n",
      "File \u001b[0;32m~/.local/lib/python3.9/site-packages/pandas/core/indexes/multi.py:2848\u001b[0m, in \u001b[0;36mMultiIndex._get_loc_single_level_index\u001b[0;34m(self, level_index, key)\u001b[0m\n\u001b[1;32m   2846\u001b[0m     \u001b[39mreturn\u001b[39;00m \u001b[39m-\u001b[39m\u001b[39m1\u001b[39m\n\u001b[1;32m   2847\u001b[0m \u001b[39melse\u001b[39;00m:\n\u001b[0;32m-> 2848\u001b[0m     \u001b[39mreturn\u001b[39;00m level_index\u001b[39m.\u001b[39;49mget_loc(key)\n",
      "File \u001b[0;32m~/.local/lib/python3.9/site-packages/pandas/core/indexes/base.py:3802\u001b[0m, in \u001b[0;36mIndex.get_loc\u001b[0;34m(self, key, method, tolerance)\u001b[0m\n\u001b[1;32m   3800\u001b[0m     \u001b[39mreturn\u001b[39;00m \u001b[39mself\u001b[39m\u001b[39m.\u001b[39m_engine\u001b[39m.\u001b[39mget_loc(casted_key)\n\u001b[1;32m   3801\u001b[0m \u001b[39mexcept\u001b[39;00m \u001b[39mKeyError\u001b[39;00m \u001b[39mas\u001b[39;00m err:\n\u001b[0;32m-> 3802\u001b[0m     \u001b[39mraise\u001b[39;00m \u001b[39mKeyError\u001b[39;00m(key) \u001b[39mfrom\u001b[39;00m \u001b[39merr\u001b[39;00m\n\u001b[1;32m   3803\u001b[0m \u001b[39mexcept\u001b[39;00m \u001b[39mTypeError\u001b[39;00m:\n\u001b[1;32m   3804\u001b[0m     \u001b[39m# If we have a listlike key, _check_indexing_error will raise\u001b[39;00m\n\u001b[1;32m   3805\u001b[0m     \u001b[39m#  InvalidIndexError. Otherwise we fall through and re-raise\u001b[39;00m\n\u001b[1;32m   3806\u001b[0m     \u001b[39m#  the TypeError.\u001b[39;00m\n\u001b[1;32m   3807\u001b[0m     \u001b[39mself\u001b[39m\u001b[39m.\u001b[39m_check_indexing_error(key)\n",
      "\u001b[0;31mKeyError\u001b[0m: 'situation'"
     ]
    }
   ],
   "source": [
    "plt.plot(stat['situation'], stat['count'], stat)"
   ]
  }
 ],
 "metadata": {
  "kernelspec": {
   "display_name": "Python 3",
   "language": "python",
   "name": "python3"
  },
  "language_info": {
   "codemirror_mode": {
    "name": "ipython",
    "version": 3
   },
   "file_extension": ".py",
   "mimetype": "text/x-python",
   "name": "python",
   "nbconvert_exporter": "python",
   "pygments_lexer": "ipython3",
   "version": "3.9.2"
  }
 },
 "nbformat": 4,
 "nbformat_minor": 2
}
